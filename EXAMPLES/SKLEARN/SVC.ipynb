{
 "cells": [
  {
   "cell_type": "code",
   "execution_count": 1,
   "id": "92a504d8",
   "metadata": {},
   "outputs": [
    {
     "name": "stderr",
     "output_type": "stream",
     "text": [
      "c:\\Users\\Administrator\\Desktop\\FinetuningOptuna\\venv\\lib\\site-packages\\tqdm\\auto.py:21: TqdmWarning: IProgress not found. Please update jupyter and ipywidgets. See https://ipywidgets.readthedocs.io/en/stable/user_install.html\n",
      "  from .autonotebook import tqdm as notebook_tqdm\n"
     ]
    }
   ],
   "source": [
    "import optuna\n",
    "import pandas as pd\n",
    "import numpy as np\n",
    "from sklearn.model_selection import train_test_split\n",
    "from sklearn.svm import SVC\n",
    "from sklearn.metrics import accuracy_score\n",
    "import warnings\n",
    "warnings.filterwarnings(\"ignore\")"
   ]
  },
  {
   "cell_type": "code",
   "execution_count": 2,
   "id": "171bd377",
   "metadata": {},
   "outputs": [
    {
     "name": "stdout",
     "output_type": "stream",
     "text": [
      "<class 'pandas.core.frame.DataFrame'>\n",
      "RangeIndex: 918 entries, 0 to 917\n",
      "Data columns (total 21 columns):\n",
      " #   Column             Non-Null Count  Dtype  \n",
      "---  ------             --------------  -----  \n",
      " 0   Age                918 non-null    int64  \n",
      " 1   RestingBP          918 non-null    int64  \n",
      " 2   Cholesterol        918 non-null    int64  \n",
      " 3   FastingBS          918 non-null    int64  \n",
      " 4   MaxHR              918 non-null    int64  \n",
      " 5   Oldpeak            918 non-null    float64\n",
      " 6   HeartDisease       918 non-null    int64  \n",
      " 7   Sex_F              918 non-null    bool   \n",
      " 8   Sex_M              918 non-null    bool   \n",
      " 9   ChestPainType_ASY  918 non-null    bool   \n",
      " 10  ChestPainType_ATA  918 non-null    bool   \n",
      " 11  ChestPainType_NAP  918 non-null    bool   \n",
      " 12  ChestPainType_TA   918 non-null    bool   \n",
      " 13  RestingECG_LVH     918 non-null    bool   \n",
      " 14  RestingECG_Normal  918 non-null    bool   \n",
      " 15  RestingECG_ST      918 non-null    bool   \n",
      " 16  ExerciseAngina_N   918 non-null    bool   \n",
      " 17  ExerciseAngina_Y   918 non-null    bool   \n",
      " 18  ST_Slope_Down      918 non-null    bool   \n",
      " 19  ST_Slope_Flat      918 non-null    bool   \n",
      " 20  ST_Slope_Up        918 non-null    bool   \n",
      "dtypes: bool(14), float64(1), int64(6)\n",
      "memory usage: 62.9 KB\n"
     ]
    }
   ],
   "source": [
    "df = pd.read_csv(\"heart.csv\")\n",
    "df = pd.get_dummies(df)\n",
    "df.info()\n",
    "X = df.drop(\"HeartDisease\", axis=1).copy()\n",
    "y = df[\"HeartDisease\"].copy()\n",
    "X_train, X_test, y_train, y_test = train_test_split(X, y, test_size=0.3, random_state=369)\n"
   ]
  },
  {
   "cell_type": "code",
   "execution_count": 3,
   "id": "b8772f99",
   "metadata": {},
   "outputs": [
    {
     "name": "stdout",
     "output_type": "stream",
     "text": [
      "0.7427536231884058\n"
     ]
    }
   ],
   "source": [
    "model = SVC()\n",
    "model.fit(X_train, y_train)\n",
    "y_pred = model.predict(X_test)\n",
    "acc = accuracy_score(y_test, y_pred)\n",
    "print(acc)"
   ]
  },
  {
   "cell_type": "code",
   "execution_count": 4,
   "id": "89473afa",
   "metadata": {},
   "outputs": [
    {
     "name": "stderr",
     "output_type": "stream",
     "text": [
      "[I 2025-08-21 21:08:55,549] A new study created in memory with name: no-name-49d9970f-0172-4449-97d2-8c6e2f8fde71\n",
      "[I 2025-08-21 21:08:55,613] Trial 4 finished with value: 0.5434782608695652 and parameters: {'C': 2.3207523438543216, 'kernel': 'sigmoid', 'gamma': 'auto', 'shrinking': True, 'probability': False, 'tol': 0.0004948189852368622, 'coef0': -0.9603034571278048}. Best is trial 4 with value: 0.5434782608695652.\n",
      "[I 2025-08-21 21:08:55,637] Trial 5 finished with value: 0.5434782608695652 and parameters: {'C': 0.02573340326499061, 'kernel': 'sigmoid', 'gamma': 'auto', 'shrinking': True, 'probability': False, 'tol': 0.0008308835065827481, 'coef0': 0.417882789627688}. Best is trial 4 with value: 0.5434782608695652.\n",
      "[I 2025-08-21 21:08:55,648] Trial 6 finished with value: 0.5434782608695652 and parameters: {'C': 1.870257922916628, 'kernel': 'sigmoid', 'gamma': 'auto', 'shrinking': True, 'probability': False, 'tol': 9.347940812027059e-05, 'coef0': -0.4835612544634058}. Best is trial 4 with value: 0.5434782608695652.\n",
      "[I 2025-08-21 21:08:55,655] Trial 7 finished with value: 0.7246376811594203 and parameters: {'C': 0.10828466528285768, 'kernel': 'poly', 'gamma': 'scale', 'shrinking': True, 'probability': False, 'tol': 0.00013370560640266785, 'degree': 3, 'coef0': 0.43448367917796293}. Best is trial 7 with value: 0.7246376811594203.\n",
      "[I 2025-08-21 21:08:55,655] Trial 3 finished with value: 0.5434782608695652 and parameters: {'C': 0.005515134258237588, 'kernel': 'rbf', 'gamma': 'scale', 'shrinking': False, 'probability': False, 'tol': 0.00010478262773482799}. Best is trial 7 with value: 0.7246376811594203.\n",
      "[I 2025-08-21 21:08:55,655] Trial 9 finished with value: 0.5434782608695652 and parameters: {'C': 552.3826375977866, 'kernel': 'sigmoid', 'gamma': 'auto', 'shrinking': True, 'probability': False, 'tol': 0.0018253194677984353, 'coef0': 0.6697343157480129}. Best is trial 7 with value: 0.7246376811594203.\n",
      "[I 2025-08-21 21:08:55,682] Trial 2 finished with value: 0.5434782608695652 and parameters: {'C': 747.1225130651378, 'kernel': 'sigmoid', 'gamma': 'auto', 'shrinking': True, 'probability': True, 'tol': 0.0005111937752194908, 'coef0': -0.5732113062161004}. Best is trial 7 with value: 0.7246376811594203.\n",
      "[I 2025-08-21 21:10:34,518] Trial 0 finished with value: 0.8115942028985508 and parameters: {'C': 0.028020166279208194, 'kernel': 'poly', 'gamma': 'auto', 'shrinking': True, 'probability': True, 'tol': 5.579889894159948e-05, 'degree': 3, 'coef0': -0.5548345613674115}. Best is trial 0 with value: 0.8115942028985508.\n",
      "[I 2025-08-21 21:16:47,422] Trial 1 finished with value: 0.855072463768116 and parameters: {'C': 90.76721033161398, 'kernel': 'linear', 'gamma': 'auto', 'shrinking': False, 'probability': False, 'tol': 0.00021515214963252407}. Best is trial 1 with value: 0.855072463768116.\n",
      "[I 2025-08-21 21:20:38,993] Trial 8 finished with value: 0.8731884057971014 and parameters: {'C': 0.06685255187086862, 'kernel': 'poly', 'gamma': 'auto', 'shrinking': True, 'probability': False, 'tol': 0.001697436861449368, 'degree': 3, 'coef0': 0.4096300945493272}. Best is trial 8 with value: 0.8731884057971014.\n"
     ]
    }
   ],
   "source": [
    "def objective(trial):\n",
    "    hyperparams = {\n",
    "        \"C\": trial.suggest_float(\"C\", 1e-3, 1e3, log=True),\n",
    "        \"kernel\": trial.suggest_categorical(\"kernel\", [\"linear\", \"poly\", \"rbf\", \"sigmoid\"]),\n",
    "        \"gamma\": trial.suggest_categorical(\"gamma\", [\"scale\", \"auto\"]),\n",
    "        \"shrinking\": trial.suggest_categorical(\"shrinking\", [True, False]),\n",
    "        \"probability\": trial.suggest_categorical(\"probability\", [True, False]) ,\n",
    "        \"tol\": trial.suggest_float(\"tol\", 1e-5, 1e-2, log=True),\n",
    "        \"max_iter\": -1,  \n",
    "    }\n",
    "    if hyperparams[\"kernel\"] == \"poly\":\n",
    "        hyperparams[\"degree\"] = trial.suggest_int(\"degree\", 2, 5)\n",
    "        hyperparams[\"coef0\"] = trial.suggest_float(\"coef0\", -1.0, 1.0)   \n",
    "    if hyperparams[\"kernel\"] in [\"poly\", \"sigmoid\"]:\n",
    "        hyperparams[\"coef0\"] = trial.suggest_float(\"coef0\", -1.0, 1.0)\n",
    "    model = SVC(**hyperparams, random_state=369)\n",
    "    model.fit(X_train, y_train)\n",
    "    y_pred = model.predict(X_test)\n",
    "    acc = accuracy_score(y_test, y_pred)\n",
    "    return acc\n",
    "\n",
    "study = optuna.create_study(direction=\"maximize\")\n",
    "study.optimize(objective, n_trials=10, n_jobs=-1)"
   ]
  },
  {
   "cell_type": "code",
   "execution_count": 5,
   "id": "5aa8bfae",
   "metadata": {},
   "outputs": [
    {
     "name": "stdout",
     "output_type": "stream",
     "text": [
      "0.8731884057971014\n"
     ]
    }
   ],
   "source": [
    "best_hiper = study.best_params\n",
    "model = SVC(**best_hiper, random_state=369)\n",
    "model.fit(X_train, y_train)\n",
    "y_pred = model.predict(X_test)\n",
    "acc = accuracy_score(y_test, y_pred)\n",
    "print(acc)"
   ]
  }
 ],
 "metadata": {
  "kernelspec": {
   "display_name": "venv",
   "language": "python",
   "name": "python3"
  },
  "language_info": {
   "codemirror_mode": {
    "name": "ipython",
    "version": 3
   },
   "file_extension": ".py",
   "mimetype": "text/x-python",
   "name": "python",
   "nbconvert_exporter": "python",
   "pygments_lexer": "ipython3",
   "version": "3.10.0"
  }
 },
 "nbformat": 4,
 "nbformat_minor": 5
}
