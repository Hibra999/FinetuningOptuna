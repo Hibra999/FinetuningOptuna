{
 "cells": [
  {
   "cell_type": "code",
   "execution_count": 17,
   "id": "b77dd2b1",
   "metadata": {},
   "outputs": [],
   "source": [
    "import pandas as pd\n",
    "import numpy as np\n",
    "import optuna\n",
    "from sklearn.tree import DecisionTreeClassifier\n",
    "from sklearn.metrics import classification_report\n",
    "from sklearn.model_selection import train_test_split"
   ]
  },
  {
   "cell_type": "code",
   "execution_count": 9,
   "id": "42609541",
   "metadata": {},
   "outputs": [
    {
     "name": "stdout",
     "output_type": "stream",
     "text": [
      "<class 'pandas.core.frame.DataFrame'>\n",
      "RangeIndex: 918 entries, 0 to 917\n",
      "Data columns (total 12 columns):\n",
      " #   Column          Non-Null Count  Dtype  \n",
      "---  ------          --------------  -----  \n",
      " 0   Age             918 non-null    int64  \n",
      " 1   Sex             918 non-null    object \n",
      " 2   ChestPainType   918 non-null    object \n",
      " 3   RestingBP       918 non-null    int64  \n",
      " 4   Cholesterol     918 non-null    int64  \n",
      " 5   FastingBS       918 non-null    int64  \n",
      " 6   RestingECG      918 non-null    object \n",
      " 7   MaxHR           918 non-null    int64  \n",
      " 8   ExerciseAngina  918 non-null    object \n",
      " 9   Oldpeak         918 non-null    float64\n",
      " 10  ST_Slope        918 non-null    object \n",
      " 11  HeartDisease    918 non-null    int64  \n",
      "dtypes: float64(1), int64(6), object(5)\n",
      "memory usage: 86.2+ KB\n"
     ]
    }
   ],
   "source": [
    "df = pd.read_csv(\"heart.csv\")\n",
    "df.info()"
   ]
  },
  {
   "cell_type": "code",
   "execution_count": 14,
   "id": "5cdd27d1",
   "metadata": {},
   "outputs": [
    {
     "name": "stdout",
     "output_type": "stream",
     "text": [
      "<class 'pandas.core.frame.DataFrame'>\n",
      "RangeIndex: 918 entries, 0 to 917\n",
      "Data columns (total 21 columns):\n",
      " #   Column             Non-Null Count  Dtype  \n",
      "---  ------             --------------  -----  \n",
      " 0   Age                918 non-null    int64  \n",
      " 1   RestingBP          918 non-null    int64  \n",
      " 2   Cholesterol        918 non-null    int64  \n",
      " 3   FastingBS          918 non-null    int64  \n",
      " 4   MaxHR              918 non-null    int64  \n",
      " 5   Oldpeak            918 non-null    float64\n",
      " 6   HeartDisease       918 non-null    int64  \n",
      " 7   Sex_F              918 non-null    bool   \n",
      " 8   Sex_M              918 non-null    bool   \n",
      " 9   ChestPainType_ASY  918 non-null    bool   \n",
      " 10  ChestPainType_ATA  918 non-null    bool   \n",
      " 11  ChestPainType_NAP  918 non-null    bool   \n",
      " 12  ChestPainType_TA   918 non-null    bool   \n",
      " 13  RestingECG_LVH     918 non-null    bool   \n",
      " 14  RestingECG_Normal  918 non-null    bool   \n",
      " 15  RestingECG_ST      918 non-null    bool   \n",
      " 16  ExerciseAngina_N   918 non-null    bool   \n",
      " 17  ExerciseAngina_Y   918 non-null    bool   \n",
      " 18  ST_Slope_Down      918 non-null    bool   \n",
      " 19  ST_Slope_Flat      918 non-null    bool   \n",
      " 20  ST_Slope_Up        918 non-null    bool   \n",
      "dtypes: bool(14), float64(1), int64(6)\n",
      "memory usage: 62.9 KB\n"
     ]
    }
   ],
   "source": [
    "df_o = pd.get_dummies(df) #One hot encoding\n",
    "df_o.info()"
   ]
  },
  {
   "cell_type": "code",
   "execution_count": 16,
   "id": "497f47c7",
   "metadata": {},
   "outputs": [
    {
     "data": {
      "text/plain": [
       "((918, 20), (918,))"
      ]
     },
     "execution_count": 16,
     "metadata": {},
     "output_type": "execute_result"
    }
   ],
   "source": [
    "X = df_o.drop(\"HeartDisease\", axis=1).copy()\n",
    "y = df_o[\"HeartDisease\"].copy()\n",
    "X.shape, y.shape"
   ]
  },
  {
   "cell_type": "code",
   "execution_count": 18,
   "id": "2d1b7c1e",
   "metadata": {},
   "outputs": [],
   "source": [
    "X_train, X_test, y_train, y_test = train_test_split(X, y, test_size=0.2, random_state=369)"
   ]
  },
  {
   "cell_type": "code",
   "execution_count": 21,
   "id": "2daff322",
   "metadata": {},
   "outputs": [
    {
     "name": "stdout",
     "output_type": "stream",
     "text": [
      "              precision    recall  f1-score   support\n",
      "\n",
      "           0       0.73      0.76      0.75        79\n",
      "           1       0.81      0.79      0.80       105\n",
      "\n",
      "    accuracy                           0.78       184\n",
      "   macro avg       0.77      0.77      0.77       184\n",
      "weighted avg       0.78      0.78      0.78       184\n",
      "\n"
     ]
    }
   ],
   "source": [
    "model = DecisionTreeClassifier()\n",
    "model.fit(X_train, y_train)\n",
    "y_pred = model.predict(X_test)\n",
    "reporte = classification_report(y_test, y_pred)\n",
    "print(reporte)"
   ]
  },
  {
   "cell_type": "code",
   "execution_count": null,
   "id": "867f9946",
   "metadata": {},
   "outputs": [],
   "source": [
    "def objective(trial):\n",
    "    \n"
   ]
  }
 ],
 "metadata": {
  "kernelspec": {
   "display_name": "venv",
   "language": "python",
   "name": "python3"
  },
  "language_info": {
   "codemirror_mode": {
    "name": "ipython",
    "version": 3
   },
   "file_extension": ".py",
   "mimetype": "text/x-python",
   "name": "python",
   "nbconvert_exporter": "python",
   "pygments_lexer": "ipython3",
   "version": "3.10.0"
  }
 },
 "nbformat": 4,
 "nbformat_minor": 5
}
