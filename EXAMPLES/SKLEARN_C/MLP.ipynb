{
 "cells": [
  {
   "cell_type": "code",
   "execution_count": 2,
   "id": "b517cfcd",
   "metadata": {},
   "outputs": [],
   "source": [
    "import optuna\n",
    "import pandas as pd\n",
    "import numpy as np\n",
    "from sklearn.model_selection import train_test_split\n",
    "from sklearn.neural_network import MLPClassifier\n",
    "from sklearn.metrics import accuracy_score\n",
    "import warnings\n",
    "warnings.filterwarnings(\"ignore\")"
   ]
  },
  {
   "cell_type": "code",
   "execution_count": 3,
   "id": "cf2ce4fc",
   "metadata": {},
   "outputs": [
    {
     "name": "stdout",
     "output_type": "stream",
     "text": [
      "<class 'pandas.core.frame.DataFrame'>\n",
      "RangeIndex: 918 entries, 0 to 917\n",
      "Data columns (total 21 columns):\n",
      " #   Column             Non-Null Count  Dtype  \n",
      "---  ------             --------------  -----  \n",
      " 0   Age                918 non-null    int64  \n",
      " 1   RestingBP          918 non-null    int64  \n",
      " 2   Cholesterol        918 non-null    int64  \n",
      " 3   FastingBS          918 non-null    int64  \n",
      " 4   MaxHR              918 non-null    int64  \n",
      " 5   Oldpeak            918 non-null    float64\n",
      " 6   HeartDisease       918 non-null    int64  \n",
      " 7   Sex_F              918 non-null    bool   \n",
      " 8   Sex_M              918 non-null    bool   \n",
      " 9   ChestPainType_ASY  918 non-null    bool   \n",
      " 10  ChestPainType_ATA  918 non-null    bool   \n",
      " 11  ChestPainType_NAP  918 non-null    bool   \n",
      " 12  ChestPainType_TA   918 non-null    bool   \n",
      " 13  RestingECG_LVH     918 non-null    bool   \n",
      " 14  RestingECG_Normal  918 non-null    bool   \n",
      " 15  RestingECG_ST      918 non-null    bool   \n",
      " 16  ExerciseAngina_N   918 non-null    bool   \n",
      " 17  ExerciseAngina_Y   918 non-null    bool   \n",
      " 18  ST_Slope_Down      918 non-null    bool   \n",
      " 19  ST_Slope_Flat      918 non-null    bool   \n",
      " 20  ST_Slope_Up        918 non-null    bool   \n",
      "dtypes: bool(14), float64(1), int64(6)\n",
      "memory usage: 62.9 KB\n"
     ]
    }
   ],
   "source": [
    "df = pd.read_csv(\"heart.csv\")\n",
    "df = pd.get_dummies(df)\n",
    "df.info()"
   ]
  },
  {
   "cell_type": "code",
   "execution_count": 4,
   "id": "df4acfa7",
   "metadata": {},
   "outputs": [],
   "source": [
    "X = df.drop(\"HeartDisease\", axis=1).copy()\n",
    "y = df[\"HeartDisease\"].copy()\n",
    "X_train, X_test, y_train, y_test = train_test_split(X, y, test_size=0.3, random_state=369)"
   ]
  },
  {
   "cell_type": "code",
   "execution_count": 5,
   "id": "c6febe73",
   "metadata": {},
   "outputs": [
    {
     "name": "stdout",
     "output_type": "stream",
     "text": [
      "0.8876811594202898\n"
     ]
    }
   ],
   "source": [
    "model = MLPClassifier()\n",
    "model.fit(X_train, y_train)\n",
    "y_pred = model.predict(X_test)\n",
    "acc = accuracy_score(y_test, y_pred)\n",
    "print(acc)"
   ]
  },
  {
   "cell_type": "code",
   "execution_count": 7,
   "id": "c0ae6304",
   "metadata": {},
   "outputs": [
    {
     "name": "stderr",
     "output_type": "stream",
     "text": [
      "[I 2025-08-21 01:31:21,270] A new study created in memory with name: no-name-3f5b85b3-e31e-4284-bb3e-381f21c9cdac\n",
      "[I 2025-08-21 01:31:22,177] Trial 8 finished with value: 0.4166666666666667 and parameters: {'hidden_layer_sizes': (50, 50), 'activation': 'identity', 'solver': 'adam', 'alpha': 0.017997560903271117, 'batch_size': 256, 'learning_rate': 'invscaling', 'learning_rate_init': 9.488849560089281e-05, 'power_t': 0.3321491488964773, 'beta_1': 0.9211346287098486, 'beta_2': 0.8392420769420478, 'early_stopping': False, 'n_iter_no_change': 6}. Best is trial 8 with value: 0.4166666666666667.\n",
      "[I 2025-08-21 01:31:25,413] Trial 4 finished with value: 0.855072463768116 and parameters: {'hidden_layer_sizes': (50, 50), 'activation': 'tanh', 'solver': 'adam', 'alpha': 0.057718395900824816, 'batch_size': 256, 'learning_rate': 'constant', 'learning_rate_init': 0.014817657355694845, 'power_t': 0.4545249682107553, 'beta_1': 0.9559155780859716, 'beta_2': 0.9164253438694147, 'early_stopping': False, 'n_iter_no_change': 8}. Best is trial 4 with value: 0.855072463768116.\n",
      "[I 2025-08-21 01:31:25,791] Trial 1 finished with value: 0.8913043478260869 and parameters: {'hidden_layer_sizes': (50,), 'activation': 'relu', 'solver': 'lbfgs', 'alpha': 0.0008267591776638395, 'batch_size': 128, 'learning_rate': 'invscaling', 'learning_rate_init': 0.0002517987752719484, 'power_t': 0.35360415863251216, 'beta_1': 0.8099554449839738, 'beta_2': 0.9586943393915983, 'early_stopping': True, 'n_iter_no_change': 24}. Best is trial 1 with value: 0.8913043478260869.\n",
      "[I 2025-08-21 01:31:26,855] Trial 9 finished with value: 0.7427536231884058 and parameters: {'hidden_layer_sizes': (100, 50), 'activation': 'logistic', 'solver': 'adam', 'alpha': 0.0001054257772833219, 'batch_size': 256, 'learning_rate': 'constant', 'learning_rate_init': 0.0004281972236214097, 'power_t': 0.2951430350001626, 'beta_1': 0.9319632369784291, 'beta_2': 0.8628326389468375, 'early_stopping': True, 'n_iter_no_change': 47}. Best is trial 1 with value: 0.8913043478260869.\n",
      "[I 2025-08-21 01:31:28,410] Trial 5 finished with value: 0.45652173913043476 and parameters: {'hidden_layer_sizes': (150, 100), 'activation': 'relu', 'solver': 'sgd', 'alpha': 1.8468102441804148e-05, 'batch_size': 32, 'learning_rate': 'invscaling', 'learning_rate_init': 1.0198439381551889e-05, 'power_t': 0.7506209196355136, 'beta_1': 0.8541635395154157, 'beta_2': 0.9744086699888879, 'early_stopping': True, 'n_iter_no_change': 30, 'momentum': 0.15325939438145184, 'nesterovs_momentum': False}. Best is trial 1 with value: 0.8913043478260869.\n",
      "[I 2025-08-21 01:31:34,507] Trial 2 finished with value: 0.8659420289855072 and parameters: {'hidden_layer_sizes': (50,), 'activation': 'logistic', 'solver': 'lbfgs', 'alpha': 0.0014276073511264899, 'batch_size': 256, 'learning_rate': 'invscaling', 'learning_rate_init': 0.0009797750999746828, 'power_t': 0.10754060454790988, 'beta_1': 0.9267762966801983, 'beta_2': 0.8641550479917673, 'early_stopping': True, 'n_iter_no_change': 46}. Best is trial 1 with value: 0.8913043478260869.\n",
      "[I 2025-08-21 01:31:34,988] Trial 3 finished with value: 0.5434782608695652 and parameters: {'hidden_layer_sizes': (150, 100), 'activation': 'identity', 'solver': 'sgd', 'alpha': 0.0009357255908345495, 'batch_size': 256, 'learning_rate': 'adaptive', 'learning_rate_init': 0.08221174959730848, 'power_t': 0.5382511464057693, 'beta_1': 0.8415974616634894, 'beta_2': 0.9452205031650807, 'early_stopping': True, 'n_iter_no_change': 37, 'momentum': 0.05525293169294002, 'nesterovs_momentum': False}. Best is trial 1 with value: 0.8913043478260869.\n",
      "[I 2025-08-21 01:31:35,197] Trial 0 finished with value: 0.7318840579710145 and parameters: {'hidden_layer_sizes': (100, 100), 'activation': 'relu', 'solver': 'adam', 'alpha': 0.02585825053467895, 'batch_size': 32, 'learning_rate': 'constant', 'learning_rate_init': 0.0022205692330203733, 'power_t': 0.3447319548199066, 'beta_1': 0.805980277336645, 'beta_2': 0.8020868263095542, 'early_stopping': False, 'n_iter_no_change': 5}. Best is trial 1 with value: 0.8913043478260869.\n",
      "[I 2025-08-21 01:31:36,506] Trial 15 finished with value: 0.8442028985507246 and parameters: {'hidden_layer_sizes': (100,), 'activation': 'logistic', 'solver': 'lbfgs', 'alpha': 0.00036890963287962463, 'batch_size': 32, 'learning_rate': 'adaptive', 'learning_rate_init': 1.8399191103748197e-05, 'power_t': 0.28988072375105456, 'beta_1': 0.9125379927529896, 'beta_2': 0.9707913659905745, 'early_stopping': False, 'n_iter_no_change': 39}. Best is trial 1 with value: 0.8913043478260869.\n",
      "[I 2025-08-21 01:31:37,394] Trial 21 finished with value: 0.7137681159420289 and parameters: {'hidden_layer_sizes': (100,), 'activation': 'logistic', 'solver': 'sgd', 'alpha': 0.001019737696762361, 'batch_size': 64, 'learning_rate': 'constant', 'learning_rate_init': 0.00044616032237706685, 'power_t': 0.2428596584895356, 'beta_1': 0.8274955960007809, 'beta_2': 0.8813499505854344, 'early_stopping': True, 'n_iter_no_change': 17, 'momentum': 0.45222259861722697, 'nesterovs_momentum': True}. Best is trial 1 with value: 0.8913043478260869.\n",
      "[I 2025-08-21 01:31:39,175] Trial 6 finished with value: 0.45652173913043476 and parameters: {'hidden_layer_sizes': (100, 50), 'activation': 'identity', 'solver': 'sgd', 'alpha': 0.0015650306977204702, 'batch_size': 64, 'learning_rate': 'adaptive', 'learning_rate_init': 0.005859733007914728, 'power_t': 0.390853230876106, 'beta_1': 0.8776016621421625, 'beta_2': 0.9770109018784958, 'early_stopping': True, 'n_iter_no_change': 23, 'momentum': 0.6225053660930062, 'nesterovs_momentum': False}. Best is trial 1 with value: 0.8913043478260869.\n",
      "[I 2025-08-21 01:31:40,347] Trial 24 finished with value: 0.5434782608695652 and parameters: {'hidden_layer_sizes': (100, 100), 'activation': 'logistic', 'solver': 'sgd', 'alpha': 0.08995143096373966, 'batch_size': 64, 'learning_rate': 'invscaling', 'learning_rate_init': 0.00016507635210826006, 'power_t': 0.875054693416846, 'beta_1': 0.9496354046598966, 'beta_2': 0.9531015152267482, 'early_stopping': True, 'n_iter_no_change': 20, 'momentum': 0.6424764595762816, 'nesterovs_momentum': False}. Best is trial 1 with value: 0.8913043478260869.\n",
      "[I 2025-08-21 01:31:44,269] Trial 13 finished with value: 0.8695652173913043 and parameters: {'hidden_layer_sizes': (50, 50), 'activation': 'relu', 'solver': 'lbfgs', 'alpha': 1.5514846592494127e-05, 'batch_size': 256, 'learning_rate': 'adaptive', 'learning_rate_init': 0.00018358018760308273, 'power_t': 0.40203818299315885, 'beta_1': 0.916817314719107, 'beta_2': 0.8229722578932601, 'early_stopping': True, 'n_iter_no_change': 36}. Best is trial 1 with value: 0.8913043478260869.\n",
      "[I 2025-08-21 01:31:44,361] Trial 25 finished with value: 0.8985507246376812 and parameters: {'hidden_layer_sizes': (50,), 'activation': 'relu', 'solver': 'lbfgs', 'alpha': 0.005817181933023209, 'batch_size': 128, 'learning_rate': 'invscaling', 'learning_rate_init': 7.36286522577171e-05, 'power_t': 0.8862042840087486, 'beta_1': 0.8798876175709803, 'beta_2': 0.9231274100333641, 'early_stopping': True, 'n_iter_no_change': 21}. Best is trial 25 with value: 0.8985507246376812.\n",
      "[I 2025-08-21 01:31:45,356] Trial 22 finished with value: 0.7355072463768116 and parameters: {'hidden_layer_sizes': (150, 100), 'activation': 'tanh', 'solver': 'sgd', 'alpha': 0.0007871388755084084, 'batch_size': 128, 'learning_rate': 'adaptive', 'learning_rate_init': 0.000763906915172065, 'power_t': 0.11581396390721582, 'beta_1': 0.8292563567880795, 'beta_2': 0.9287437049976415, 'early_stopping': False, 'n_iter_no_change': 8, 'momentum': 0.8005554690491912, 'nesterovs_momentum': True}. Best is trial 25 with value: 0.8985507246376812.\n",
      "[I 2025-08-21 01:31:51,019] Trial 30 finished with value: 0.894927536231884 and parameters: {'hidden_layer_sizes': (50,), 'activation': 'relu', 'solver': 'lbfgs', 'alpha': 0.008099600931787097, 'batch_size': 128, 'learning_rate': 'invscaling', 'learning_rate_init': 4.54306680550863e-05, 'power_t': 0.597521243976765, 'beta_1': 0.9977671296542108, 'beta_2': 0.9936328902250419, 'early_stopping': True, 'n_iter_no_change': 14}. Best is trial 25 with value: 0.8985507246376812.\n",
      "[I 2025-08-21 01:31:53,176] Trial 26 finished with value: 0.9021739130434783 and parameters: {'hidden_layer_sizes': (50,), 'activation': 'relu', 'solver': 'lbfgs', 'alpha': 0.00614729015524271, 'batch_size': 128, 'learning_rate': 'invscaling', 'learning_rate_init': 0.00011314590461937068, 'power_t': 0.11451515613918173, 'beta_1': 0.9908660275099541, 'beta_2': 0.9263049817613019, 'early_stopping': True, 'n_iter_no_change': 49}. Best is trial 26 with value: 0.9021739130434783.\n",
      "[I 2025-08-21 01:31:53,230] Trial 23 finished with value: 0.8442028985507246 and parameters: {'hidden_layer_sizes': (150, 100), 'activation': 'identity', 'solver': 'adam', 'alpha': 1.7532598574567093e-05, 'batch_size': 128, 'learning_rate': 'adaptive', 'learning_rate_init': 0.004589296897527977, 'power_t': 0.36577538155982214, 'beta_1': 0.9617210514786343, 'beta_2': 0.9521024676658626, 'early_stopping': False, 'n_iter_no_change': 33}. Best is trial 26 with value: 0.9021739130434783.\n",
      "[I 2025-08-21 01:31:54,004] Trial 17 finished with value: 0.8442028985507246 and parameters: {'hidden_layer_sizes': (100, 50), 'activation': 'relu', 'solver': 'lbfgs', 'alpha': 0.0004927681312973092, 'batch_size': 64, 'learning_rate': 'invscaling', 'learning_rate_init': 0.02067786580501195, 'power_t': 0.5134856905673019, 'beta_1': 0.8416017516275383, 'beta_2': 0.8028542948840878, 'early_stopping': True, 'n_iter_no_change': 10}. Best is trial 26 with value: 0.9021739130434783.\n",
      "[I 2025-08-21 01:31:54,434] Trial 27 finished with value: 0.8768115942028986 and parameters: {'hidden_layer_sizes': (50,), 'activation': 'relu', 'solver': 'lbfgs', 'alpha': 0.0023440399934260133, 'batch_size': 128, 'learning_rate': 'invscaling', 'learning_rate_init': 0.0012165650081157045, 'power_t': 0.13291400764971284, 'beta_1': 0.996690006911764, 'beta_2': 0.9165502687301732, 'early_stopping': True, 'n_iter_no_change': 50}. Best is trial 26 with value: 0.9021739130434783.\n",
      "[I 2025-08-21 01:31:54,970] Trial 28 finished with value: 0.8985507246376812 and parameters: {'hidden_layer_sizes': (50,), 'activation': 'relu', 'solver': 'lbfgs', 'alpha': 1.2796707757117401e-05, 'batch_size': 128, 'learning_rate': 'adaptive', 'learning_rate_init': 6.447443017526834e-05, 'power_t': 0.5877822651620135, 'beta_1': 0.9897766536027006, 'beta_2': 0.9134329667134399, 'early_stopping': True, 'n_iter_no_change': 31}. Best is trial 26 with value: 0.9021739130434783.\n",
      "[I 2025-08-21 01:31:57,177] Trial 18 finished with value: 0.8297101449275363 and parameters: {'hidden_layer_sizes': (100, 100), 'activation': 'relu', 'solver': 'lbfgs', 'alpha': 0.003109578410331625, 'batch_size': 128, 'learning_rate': 'invscaling', 'learning_rate_init': 0.06726570977082724, 'power_t': 0.3558542771933991, 'beta_1': 0.8671212709972522, 'beta_2': 0.9030058573037443, 'early_stopping': False, 'n_iter_no_change': 29}. Best is trial 26 with value: 0.9021739130434783.\n",
      "[I 2025-08-21 01:31:57,835] Trial 19 finished with value: 0.7789855072463768 and parameters: {'hidden_layer_sizes': (150, 100), 'activation': 'tanh', 'solver': 'lbfgs', 'alpha': 0.006822540473188914, 'batch_size': 256, 'learning_rate': 'adaptive', 'learning_rate_init': 6.0072966936305015e-05, 'power_t': 0.6356721674668097, 'beta_1': 0.8842900740306172, 'beta_2': 0.9187543010191377, 'early_stopping': True, 'n_iter_no_change': 13}. Best is trial 26 with value: 0.9021739130434783.\n",
      "[I 2025-08-21 01:31:58,075] Trial 29 finished with value: 0.8731884057971014 and parameters: {'hidden_layer_sizes': (50,), 'activation': 'relu', 'solver': 'lbfgs', 'alpha': 0.009523527313176277, 'batch_size': 128, 'learning_rate': 'invscaling', 'learning_rate_init': 6.078704970582804e-05, 'power_t': 0.5913697953436224, 'beta_1': 0.8814840673616056, 'beta_2': 0.9176875273025737, 'early_stopping': True, 'n_iter_no_change': 15}. Best is trial 26 with value: 0.9021739130434783.\n",
      "[I 2025-08-21 01:31:59,237] Trial 11 finished with value: 0.8442028985507246 and parameters: {'hidden_layer_sizes': (100, 100), 'activation': 'logistic', 'solver': 'lbfgs', 'alpha': 0.0010421156307583294, 'batch_size': 32, 'learning_rate': 'adaptive', 'learning_rate_init': 1.4302909607898944e-05, 'power_t': 0.6640599606086428, 'beta_1': 0.9847531020886132, 'beta_2': 0.8047517408489314, 'early_stopping': True, 'n_iter_no_change': 43}. Best is trial 26 with value: 0.9021739130434783.\n",
      "[I 2025-08-21 01:31:59,669] Trial 14 finished with value: 0.8659420289855072 and parameters: {'hidden_layer_sizes': (100, 100), 'activation': 'logistic', 'solver': 'lbfgs', 'alpha': 0.0002754737211976501, 'batch_size': 64, 'learning_rate': 'invscaling', 'learning_rate_init': 0.0008810732363557198, 'power_t': 0.25127676076709493, 'beta_1': 0.9014650023369833, 'beta_2': 0.8665571894439285, 'early_stopping': False, 'n_iter_no_change': 43}. Best is trial 26 with value: 0.9021739130434783.\n",
      "[I 2025-08-21 01:32:00,253] Trial 32 finished with value: 0.894927536231884 and parameters: {'hidden_layer_sizes': (50,), 'activation': 'relu', 'solver': 'lbfgs', 'alpha': 0.007922311096087181, 'batch_size': 128, 'learning_rate': 'invscaling', 'learning_rate_init': 4.678087835867511e-05, 'power_t': 0.6836045610404485, 'beta_1': 0.8755387744340681, 'beta_2': 0.9009886206350284, 'early_stopping': True, 'n_iter_no_change': 31}. Best is trial 26 with value: 0.9021739130434783.\n",
      "[I 2025-08-21 01:32:00,708] Trial 36 finished with value: 0.8913043478260869 and parameters: {'hidden_layer_sizes': (50,), 'activation': 'relu', 'solver': 'lbfgs', 'alpha': 0.005893045133564573, 'batch_size': 128, 'learning_rate': 'invscaling', 'learning_rate_init': 4.929015748797349e-05, 'power_t': 0.6992292491101578, 'beta_1': 0.8841510364886749, 'beta_2': 0.8945034155471331, 'early_stopping': True, 'n_iter_no_change': 28}. Best is trial 26 with value: 0.9021739130434783.\n",
      "[I 2025-08-21 01:32:02,744] Trial 31 finished with value: 0.8913043478260869 and parameters: {'hidden_layer_sizes': (50,), 'activation': 'relu', 'solver': 'lbfgs', 'alpha': 0.00871954358842073, 'batch_size': 128, 'learning_rate': 'invscaling', 'learning_rate_init': 4.355606853203591e-05, 'power_t': 0.5975413161726272, 'beta_1': 0.9965946364179918, 'beta_2': 0.9967213504443225, 'early_stopping': True, 'n_iter_no_change': 15}. Best is trial 26 with value: 0.9021739130434783.\n",
      "[I 2025-08-21 01:32:03,885] Trial 42 finished with value: 0.8876811594202898 and parameters: {'hidden_layer_sizes': (50,), 'activation': 'relu', 'solver': 'lbfgs', 'alpha': 5.687687462775188e-05, 'batch_size': 128, 'learning_rate': 'adaptive', 'learning_rate_init': 2.3467217244468882e-05, 'power_t': 0.8951791820319959, 'beta_1': 0.9700129616943761, 'beta_2': 0.9359421877411671, 'early_stopping': True, 'n_iter_no_change': 26}. Best is trial 26 with value: 0.9021739130434783.\n",
      "[I 2025-08-21 01:32:04,457] Trial 33 finished with value: 0.8913043478260869 and parameters: {'hidden_layer_sizes': (50,), 'activation': 'relu', 'solver': 'lbfgs', 'alpha': 0.004439907304208696, 'batch_size': 128, 'learning_rate': 'invscaling', 'learning_rate_init': 4.719175298065475e-05, 'power_t': 0.6854848879478387, 'beta_1': 0.8710028725819103, 'beta_2': 0.9109774540331697, 'early_stopping': True, 'n_iter_no_change': 50}. Best is trial 26 with value: 0.9021739130434783.\n",
      "[I 2025-08-21 01:32:05,300] Trial 34 finished with value: 0.8768115942028986 and parameters: {'hidden_layer_sizes': (50,), 'activation': 'relu', 'solver': 'lbfgs', 'alpha': 0.005716380130224756, 'batch_size': 128, 'learning_rate': 'invscaling', 'learning_rate_init': 4.0279653200794186e-05, 'power_t': 0.6988410015300214, 'beta_1': 0.8769051182436636, 'beta_2': 0.9048551889632047, 'early_stopping': True, 'n_iter_no_change': 42}. Best is trial 26 with value: 0.9021739130434783.\n",
      "[I 2025-08-21 01:32:05,349] Trial 41 finished with value: 0.9057971014492754 and parameters: {'hidden_layer_sizes': (50,), 'activation': 'relu', 'solver': 'lbfgs', 'alpha': 0.00014918361446092474, 'batch_size': 128, 'learning_rate': 'invscaling', 'learning_rate_init': 0.0001074599943140917, 'power_t': 0.8645743546751106, 'beta_1': 0.9727988802210525, 'beta_2': 0.8918432832416167, 'early_stopping': True, 'n_iter_no_change': 25}. Best is trial 41 with value: 0.9057971014492754.\n",
      "[I 2025-08-21 01:32:05,762] Trial 35 finished with value: 0.8840579710144928 and parameters: {'hidden_layer_sizes': (50,), 'activation': 'relu', 'solver': 'lbfgs', 'alpha': 0.005416225126825889, 'batch_size': 128, 'learning_rate': 'invscaling', 'learning_rate_init': 4.1971152875768944e-05, 'power_t': 0.672410819740434, 'beta_1': 0.8856069266901465, 'beta_2': 0.8948479660336033, 'early_stopping': True, 'n_iter_no_change': 26}. Best is trial 41 with value: 0.9057971014492754.\n",
      "[I 2025-08-21 01:32:07,731] Trial 37 finished with value: 0.8985507246376812 and parameters: {'hidden_layer_sizes': (50,), 'activation': 'relu', 'solver': 'lbfgs', 'alpha': 0.005190662363209477, 'batch_size': 128, 'learning_rate': 'invscaling', 'learning_rate_init': 4.52235903754891e-05, 'power_t': 0.7409087249934043, 'beta_1': 0.8872797389216867, 'beta_2': 0.893959114156244, 'early_stopping': True, 'n_iter_no_change': 26}. Best is trial 41 with value: 0.9057971014492754.\n",
      "[I 2025-08-21 01:32:08,372] Trial 38 finished with value: 0.8913043478260869 and parameters: {'hidden_layer_sizes': (50,), 'activation': 'relu', 'solver': 'lbfgs', 'alpha': 4.756300579641024e-05, 'batch_size': 128, 'learning_rate': 'invscaling', 'learning_rate_init': 3.090325194322164e-05, 'power_t': 0.8475934191915937, 'beta_1': 0.9790504932077183, 'beta_2': 0.8910053713535481, 'early_stopping': True, 'n_iter_no_change': 42}. Best is trial 41 with value: 0.9057971014492754.\n",
      "[I 2025-08-21 01:32:09,259] Trial 39 finished with value: 0.8840579710144928 and parameters: {'hidden_layer_sizes': (50,), 'activation': 'relu', 'solver': 'lbfgs', 'alpha': 0.0001417576273065331, 'batch_size': 128, 'learning_rate': 'invscaling', 'learning_rate_init': 2.5251595262760737e-05, 'power_t': 0.8874570905148824, 'beta_1': 0.9810691661271413, 'beta_2': 0.8933694352380015, 'early_stopping': True, 'n_iter_no_change': 42}. Best is trial 41 with value: 0.9057971014492754.\n",
      "[I 2025-08-21 01:32:09,632] Trial 40 finished with value: 0.894927536231884 and parameters: {'hidden_layer_sizes': (50,), 'activation': 'relu', 'solver': 'lbfgs', 'alpha': 0.00012449604115115774, 'batch_size': 128, 'learning_rate': 'invscaling', 'learning_rate_init': 3.5961321333859285e-05, 'power_t': 0.8832647200422794, 'beta_1': 0.9762594131167582, 'beta_2': 0.8902668323925748, 'early_stopping': True, 'n_iter_no_change': 26}. Best is trial 41 with value: 0.9057971014492754.\n",
      "[I 2025-08-21 01:32:10,103] Trial 51 finished with value: 0.677536231884058 and parameters: {'hidden_layer_sizes': (100,), 'activation': 'tanh', 'solver': 'adam', 'alpha': 0.029767528889770346, 'batch_size': 128, 'learning_rate': 'constant', 'learning_rate_init': 0.00011453787422763891, 'power_t': 0.8217226007922153, 'beta_1': 0.9411293275593291, 'beta_2': 0.9356563579670323, 'early_stopping': True, 'n_iter_no_change': 21}. Best is trial 41 with value: 0.9057971014492754.\n",
      "[I 2025-08-21 01:32:10,990] Trial 43 finished with value: 0.8804347826086957 and parameters: {'hidden_layer_sizes': (50,), 'activation': 'relu', 'solver': 'lbfgs', 'alpha': 6.0064482352361076e-05, 'batch_size': 128, 'learning_rate': 'constant', 'learning_rate_init': 2.3949946845589632e-05, 'power_t': 0.8989112872046359, 'beta_1': 0.9725414554244867, 'beta_2': 0.9387944562226856, 'early_stopping': True, 'n_iter_no_change': 23}. Best is trial 41 with value: 0.9057971014492754.\n",
      "[I 2025-08-21 01:32:12,142] Trial 49 finished with value: 0.9094202898550725 and parameters: {'hidden_layer_sizes': (50,), 'activation': 'relu', 'solver': 'lbfgs', 'alpha': 5.158525383377517e-05, 'batch_size': 128, 'learning_rate': 'constant', 'learning_rate_init': 0.00013812575012955833, 'power_t': 0.82730084936568, 'beta_1': 0.9793960353047341, 'beta_2': 0.8800466771747224, 'early_stopping': True, 'n_iter_no_change': 21}. Best is trial 49 with value: 0.9094202898550725.\n",
      "[I 2025-08-21 01:32:12,516] Trial 52 finished with value: 0.6956521739130435 and parameters: {'hidden_layer_sizes': (100,), 'activation': 'tanh', 'solver': 'adam', 'alpha': 0.03648894321379132, 'batch_size': 32, 'learning_rate': 'constant', 'learning_rate_init': 0.00011173794059194633, 'power_t': 0.8044003908564309, 'beta_1': 0.9454481527533984, 'beta_2': 0.930259197803101, 'early_stopping': True, 'n_iter_no_change': 20}. Best is trial 49 with value: 0.9094202898550725.\n",
      "[I 2025-08-21 01:32:12,721] Trial 53 finished with value: 0.6739130434782609 and parameters: {'hidden_layer_sizes': (100,), 'activation': 'tanh', 'solver': 'adam', 'alpha': 0.020495678566120622, 'batch_size': 32, 'learning_rate': 'constant', 'learning_rate_init': 0.00012325031548808999, 'power_t': 0.8174689568231972, 'beta_1': 0.9490822836366536, 'beta_2': 0.9305779250244052, 'early_stopping': True, 'n_iter_no_change': 19}. Best is trial 49 with value: 0.9094202898550725.\n",
      "[I 2025-08-21 01:32:12,794] Trial 46 finished with value: 0.8913043478260869 and parameters: {'hidden_layer_sizes': (50,), 'activation': 'relu', 'solver': 'lbfgs', 'alpha': 0.023642789087724717, 'batch_size': 128, 'learning_rate': 'constant', 'learning_rate_init': 0.00010551571763056539, 'power_t': 0.8016036482567682, 'beta_1': 0.9773536364046913, 'beta_2': 0.8886315124158308, 'early_stopping': True, 'n_iter_no_change': 20}. Best is trial 49 with value: 0.9094202898550725.\n",
      "[I 2025-08-21 01:32:13,434] Trial 44 finished with value: 0.9021739130434783 and parameters: {'hidden_layer_sizes': (50,), 'activation': 'relu', 'solver': 'lbfgs', 'alpha': 4.5374698840669215e-05, 'batch_size': 128, 'learning_rate': 'constant', 'learning_rate_init': 1.9604258014151003e-05, 'power_t': 0.8858932810573233, 'beta_1': 0.9793859851496549, 'beta_2': 0.9355893868605988, 'early_stopping': True, 'n_iter_no_change': 24}. Best is trial 49 with value: 0.9094202898550725.\n",
      "[I 2025-08-21 01:32:13,819] Trial 45 finished with value: 0.8623188405797102 and parameters: {'hidden_layer_sizes': (50,), 'activation': 'relu', 'solver': 'lbfgs', 'alpha': 0.04355744907748456, 'batch_size': 128, 'learning_rate': 'constant', 'learning_rate_init': 0.00014136512763170483, 'power_t': 0.8000104732447768, 'beta_1': 0.9436830199365424, 'beta_2': 0.8851822128969402, 'early_stopping': True, 'n_iter_no_change': 21}. Best is trial 49 with value: 0.9094202898550725.\n",
      "[I 2025-08-21 01:32:15,021] Trial 50 finished with value: 0.894927536231884 and parameters: {'hidden_layer_sizes': (50,), 'activation': 'relu', 'solver': 'lbfgs', 'alpha': 3.546407506187607e-05, 'batch_size': 128, 'learning_rate': 'constant', 'learning_rate_init': 0.00016956289676991917, 'power_t': 0.8295000423166712, 'beta_1': 0.9758593372553287, 'beta_2': 0.9327946069058045, 'early_stopping': True, 'n_iter_no_change': 21}. Best is trial 49 with value: 0.9094202898550725.\n",
      "[I 2025-08-21 01:32:15,493] Trial 47 finished with value: 0.8768115942028986 and parameters: {'hidden_layer_sizes': (50,), 'activation': 'relu', 'solver': 'lbfgs', 'alpha': 0.025287492617462968, 'batch_size': 128, 'learning_rate': 'constant', 'learning_rate_init': 0.00010537174116645544, 'power_t': 0.7858644125456282, 'beta_1': 0.9743677202567373, 'beta_2': 0.992317841069212, 'early_stopping': True, 'n_iter_no_change': 21}. Best is trial 49 with value: 0.9094202898550725.\n",
      "[I 2025-08-21 01:32:15,958] Trial 54 finished with value: 0.8731884057971014 and parameters: {'hidden_layer_sizes': (50,), 'activation': 'identity', 'solver': 'adam', 'alpha': 3.5938164659436036e-05, 'batch_size': 32, 'learning_rate': 'constant', 'learning_rate_init': 0.00032286075902425773, 'power_t': 0.8196558013069061, 'beta_1': 0.9650624196666387, 'beta_2': 0.8794245315297099, 'early_stopping': True, 'n_iter_no_change': 19}. Best is trial 49 with value: 0.9094202898550725.\n",
      "[I 2025-08-21 01:32:16,410] Trial 48 finished with value: 0.8768115942028986 and parameters: {'hidden_layer_sizes': (50,), 'activation': 'relu', 'solver': 'lbfgs', 'alpha': 3.6976592799670815e-05, 'batch_size': 128, 'learning_rate': 'constant', 'learning_rate_init': 0.0001102817447264138, 'power_t': 0.8200561953057629, 'beta_1': 0.9818451398063152, 'beta_2': 0.8800304424122087, 'early_stopping': True, 'n_iter_no_change': 21}. Best is trial 49 with value: 0.9094202898550725.\n",
      "[I 2025-08-21 01:32:18,254] Trial 16 finished with value: 0.8768115942028986 and parameters: {'hidden_layer_sizes': (50,), 'activation': 'relu', 'solver': 'adam', 'alpha': 0.00023879141250888173, 'batch_size': 32, 'learning_rate': 'invscaling', 'learning_rate_init': 5.469198518672332e-05, 'power_t': 0.3994970348403414, 'beta_1': 0.8428549924802897, 'beta_2': 0.9359458155195586, 'early_stopping': False, 'n_iter_no_change': 13}. Best is trial 49 with value: 0.9094202898550725.\n",
      "[I 2025-08-21 01:32:20,410] Trial 61 finished with value: 0.7971014492753623 and parameters: {'hidden_layer_sizes': (100, 50), 'activation': 'identity', 'solver': 'sgd', 'alpha': 2.4592825054957416e-05, 'batch_size': 256, 'learning_rate': 'constant', 'learning_rate_init': 0.00029722808451495875, 'power_t': 0.7368630213652242, 'beta_1': 0.9608702899314553, 'beta_2': 0.8734128675701981, 'early_stopping': False, 'n_iter_no_change': 23, 'momentum': 0.9105638683972083, 'nesterovs_momentum': True}. Best is trial 49 with value: 0.9094202898550725.\n",
      "[I 2025-08-21 01:32:20,731] Trial 55 finished with value: 0.8152173913043478 and parameters: {'hidden_layer_sizes': (50, 50), 'activation': 'identity', 'solver': 'adam', 'alpha': 1.044088174222663e-05, 'batch_size': 32, 'learning_rate': 'adaptive', 'learning_rate_init': 9.931475802063701e-05, 'power_t': 0.7934518397106709, 'beta_1': 0.9601446836754136, 'beta_2': 0.8752945132429094, 'early_stopping': True, 'n_iter_no_change': 19}. Best is trial 49 with value: 0.9094202898550725.\n",
      "[I 2025-08-21 01:32:20,907] Trial 58 finished with value: 0.8768115942028986 and parameters: {'hidden_layer_sizes': (50, 50), 'activation': 'identity', 'solver': 'lbfgs', 'alpha': 1.0511083516165917e-05, 'batch_size': 128, 'learning_rate': 'constant', 'learning_rate_init': 0.0003143029495950756, 'power_t': 0.7683647371223545, 'beta_1': 0.9636932916929365, 'beta_2': 0.8746087335321853, 'early_stopping': True, 'n_iter_no_change': 23}. Best is trial 49 with value: 0.9094202898550725.\n",
      "[I 2025-08-21 01:32:21,675] Trial 62 finished with value: 0.8333333333333334 and parameters: {'hidden_layer_sizes': (50, 50), 'activation': 'identity', 'solver': 'sgd', 'alpha': 2.7595674429641128e-05, 'batch_size': 256, 'learning_rate': 'constant', 'learning_rate_init': 0.00029469151835186027, 'power_t': 0.7513958657092349, 'beta_1': 0.9620947167891055, 'beta_2': 0.8734419944348264, 'early_stopping': False, 'n_iter_no_change': 23, 'momentum': 0.9503148723263062, 'nesterovs_momentum': True}. Best is trial 49 with value: 0.9094202898550725.\n",
      "[I 2025-08-21 01:32:23,145] Trial 57 finished with value: 0.8768115942028986 and parameters: {'hidden_layer_sizes': (50, 50), 'activation': 'identity', 'solver': 'lbfgs', 'alpha': 3.091107941308902e-05, 'batch_size': 128, 'learning_rate': 'constant', 'learning_rate_init': 0.00030596968922157766, 'power_t': 0.754638510740846, 'beta_1': 0.9618835470372599, 'beta_2': 0.8765191214791028, 'early_stopping': True, 'n_iter_no_change': 18}. Best is trial 49 with value: 0.9094202898550725.\n",
      "[I 2025-08-21 01:32:23,241] Trial 56 finished with value: 0.8840579710144928 and parameters: {'hidden_layer_sizes': (50,), 'activation': 'relu', 'solver': 'lbfgs', 'alpha': 3.555845730570647e-05, 'batch_size': 32, 'learning_rate': 'constant', 'learning_rate_init': 0.0002812520084626724, 'power_t': 0.7931391561937103, 'beta_1': 0.9593430858639431, 'beta_2': 0.8736735794087531, 'early_stopping': True, 'n_iter_no_change': 19}. Best is trial 49 with value: 0.9094202898550725.\n",
      "[I 2025-08-21 01:32:27,155] Trial 60 finished with value: 0.8804347826086957 and parameters: {'hidden_layer_sizes': (50, 50), 'activation': 'identity', 'solver': 'lbfgs', 'alpha': 2.4095551579115128e-05, 'batch_size': 128, 'learning_rate': 'constant', 'learning_rate_init': 0.0003278990160005361, 'power_t': 0.7647835755864447, 'beta_1': 0.9672028200287389, 'beta_2': 0.8762693104071355, 'early_stopping': True, 'n_iter_no_change': 23}. Best is trial 49 with value: 0.9094202898550725.\n",
      "[I 2025-08-21 01:32:27,930] Trial 59 finished with value: 0.8768115942028986 and parameters: {'hidden_layer_sizes': (50, 50), 'activation': 'identity', 'solver': 'lbfgs', 'alpha': 3.3170533987797545e-05, 'batch_size': 128, 'learning_rate': 'constant', 'learning_rate_init': 0.0002897252467215005, 'power_t': 0.7515121534472232, 'beta_1': 0.9655363130491785, 'beta_2': 0.8740267112054453, 'early_stopping': True, 'n_iter_no_change': 34}. Best is trial 49 with value: 0.9094202898550725.\n",
      "[I 2025-08-21 01:32:29,534] Trial 66 finished with value: 0.8804347826086957 and parameters: {'hidden_layer_sizes': (50, 50), 'activation': 'identity', 'solver': 'lbfgs', 'alpha': 2.68611006993883e-05, 'batch_size': 256, 'learning_rate': 'adaptive', 'learning_rate_init': 1.2774432456269488e-05, 'power_t': 0.764534192531132, 'beta_1': 0.8996316701545843, 'beta_2': 0.8698121992858767, 'early_stopping': True, 'n_iter_no_change': 33}. Best is trial 49 with value: 0.9094202898550725.\n",
      "[I 2025-08-21 01:32:29,556] Trial 68 finished with value: 0.8985507246376812 and parameters: {'hidden_layer_sizes': (50, 50), 'activation': 'relu', 'solver': 'lbfgs', 'alpha': 9.343891559948047e-05, 'batch_size': 128, 'learning_rate': 'adaptive', 'learning_rate_init': 1.5966871859451492e-05, 'power_t': 0.4841493582978281, 'beta_1': 0.8991010498181169, 'beta_2': 0.8431347203619846, 'early_stopping': True, 'n_iter_no_change': 33}. Best is trial 49 with value: 0.9094202898550725.\n",
      "[I 2025-08-21 01:32:32,236] Trial 63 finished with value: 0.8478260869565217 and parameters: {'hidden_layer_sizes': (50,), 'activation': 'identity', 'solver': 'sgd', 'alpha': 2.644211623250491e-05, 'batch_size': 256, 'learning_rate': 'constant', 'learning_rate_init': 1.0250897637052665e-05, 'power_t': 0.7648621270090618, 'beta_1': 0.9617472510614201, 'beta_2': 0.9453891807522183, 'early_stopping': False, 'n_iter_no_change': 24, 'momentum': 0.9802848133846782, 'nesterovs_momentum': True}. Best is trial 49 with value: 0.9094202898550725.\n",
      "[I 2025-08-21 01:32:36,488] Trial 64 finished with value: 0.75 and parameters: {'hidden_layer_sizes': (50, 50), 'activation': 'identity', 'solver': 'sgd', 'alpha': 9.694106306597205e-05, 'batch_size': 256, 'learning_rate': 'constant', 'learning_rate_init': 1.407968804742853e-05, 'power_t': 0.7534592368502929, 'beta_1': 0.930662376293087, 'beta_2': 0.8695983754263089, 'early_stopping': False, 'n_iter_no_change': 34, 'momentum': 0.32508530697388427, 'nesterovs_momentum': True}. Best is trial 49 with value: 0.9094202898550725.\n",
      "[I 2025-08-21 01:32:41,562] Trial 10 finished with value: 0.6086956521739131 and parameters: {'hidden_layer_sizes': (50, 50), 'activation': 'tanh', 'solver': 'sgd', 'alpha': 0.0696764267533034, 'batch_size': 64, 'learning_rate': 'adaptive', 'learning_rate_init': 0.0908500256505326, 'power_t': 0.6543546080095031, 'beta_1': 0.9078199054434499, 'beta_2': 0.9109380856561339, 'early_stopping': False, 'n_iter_no_change': 33, 'momentum': 0.6104318347381333, 'nesterovs_momentum': True}. Best is trial 49 with value: 0.9094202898550725.\n",
      "[I 2025-08-21 01:32:44,771] Trial 67 finished with value: 0.8840579710144928 and parameters: {'hidden_layer_sizes': (50, 50), 'activation': 'relu', 'solver': 'lbfgs', 'alpha': 1.1371230327835197e-05, 'batch_size': 128, 'learning_rate': 'adaptive', 'learning_rate_init': 1.2399993781918813e-05, 'power_t': 0.8623827932123913, 'beta_1': 0.9904910004559365, 'beta_2': 0.85532617708331, 'early_stopping': True, 'n_iter_no_change': 34}. Best is trial 49 with value: 0.9094202898550725.\n",
      "[I 2025-08-21 01:32:48,070] Trial 12 finished with value: 0.9057971014492754 and parameters: {'hidden_layer_sizes': (150, 100), 'activation': 'logistic', 'solver': 'adam', 'alpha': 3.2455334687441187e-05, 'batch_size': 64, 'learning_rate': 'adaptive', 'learning_rate_init': 0.00019863569409874984, 'power_t': 0.3805231540347911, 'beta_1': 0.9020295296579359, 'beta_2': 0.9012200752600832, 'early_stopping': False, 'n_iter_no_change': 14}. Best is trial 49 with value: 0.9094202898550725.\n",
      "[I 2025-08-21 01:32:51,622] Trial 69 finished with value: 0.8442028985507246 and parameters: {'hidden_layer_sizes': (100, 50), 'activation': 'relu', 'solver': 'lbfgs', 'alpha': 8.623911479432251e-05, 'batch_size': 64, 'learning_rate': 'adaptive', 'learning_rate_init': 1.0593688892985588e-05, 'power_t': 0.45462910375427146, 'beta_1': 0.9888591037791366, 'beta_2': 0.8479973155848073, 'early_stopping': True, 'n_iter_no_change': 34}. Best is trial 49 with value: 0.9094202898550725.\n",
      "[I 2025-08-21 01:32:53,043] Trial 71 finished with value: 0.8623188405797102 and parameters: {'hidden_layer_sizes': (100, 50), 'activation': 'relu', 'solver': 'lbfgs', 'alpha': 7.897560813629637e-05, 'batch_size': 128, 'learning_rate': 'adaptive', 'learning_rate_init': 1.3421404878314068e-05, 'power_t': 0.48263007400670666, 'beta_1': 0.9882917709568493, 'beta_2': 0.8507402546747708, 'early_stopping': True, 'n_iter_no_change': 35}. Best is trial 49 with value: 0.9094202898550725.\n",
      "[I 2025-08-21 01:32:55,316] Trial 72 finished with value: 0.8768115942028986 and parameters: {'hidden_layer_sizes': (100, 50), 'activation': 'relu', 'solver': 'lbfgs', 'alpha': 0.00020781312215246143, 'batch_size': 64, 'learning_rate': 'adaptive', 'learning_rate_init': 1.1183283837358095e-05, 'power_t': 0.47477815260859246, 'beta_1': 0.9886352458460732, 'beta_2': 0.8404823197156305, 'early_stopping': True, 'n_iter_no_change': 35}. Best is trial 49 with value: 0.9094202898550725.\n",
      "[I 2025-08-21 01:32:55,816] Trial 70 finished with value: 0.8514492753623188 and parameters: {'hidden_layer_sizes': (150, 100), 'activation': 'relu', 'solver': 'lbfgs', 'alpha': 8.8158640932533e-05, 'batch_size': 64, 'learning_rate': 'adaptive', 'learning_rate_init': 1.5447515605955805e-05, 'power_t': 0.46875385398233244, 'beta_1': 0.9859988741788845, 'beta_2': 0.8604834876999734, 'early_stopping': True, 'n_iter_no_change': 30}. Best is trial 49 with value: 0.9094202898550725.\n",
      "[I 2025-08-21 01:32:56,642] Trial 65 finished with value: 0.8804347826086957 and parameters: {'hidden_layer_sizes': (50, 50), 'activation': 'identity', 'solver': 'sgd', 'alpha': 0.00022139246515522182, 'batch_size': 256, 'learning_rate': 'constant', 'learning_rate_init': 1.3981875660240765e-05, 'power_t': 0.7587024422504829, 'beta_1': 0.9004908172394039, 'beta_2': 0.8540438220027429, 'early_stopping': False, 'n_iter_no_change': 24, 'momentum': 0.9684266338170868, 'nesterovs_momentum': True}. Best is trial 49 with value: 0.9094202898550725.\n",
      "[I 2025-08-21 01:33:00,244] Trial 73 finished with value: 0.8514492753623188 and parameters: {'hidden_layer_sizes': (100, 50), 'activation': 'relu', 'solver': 'lbfgs', 'alpha': 0.013628087723609345, 'batch_size': 64, 'learning_rate': 'adaptive', 'learning_rate_init': 1.112371557208561e-05, 'power_t': 0.8521380614758057, 'beta_1': 0.9895332463871491, 'beta_2': 0.8525324434076841, 'early_stopping': True, 'n_iter_no_change': 32}. Best is trial 49 with value: 0.9094202898550725.\n",
      "[I 2025-08-21 01:33:04,030] Trial 76 finished with value: 0.8369565217391305 and parameters: {'hidden_layer_sizes': (100, 100), 'activation': 'relu', 'solver': 'lbfgs', 'alpha': 0.0015670030427126105, 'batch_size': 128, 'learning_rate': 'invscaling', 'learning_rate_init': 7.23469603780896e-05, 'power_t': 0.8542578362441426, 'beta_1': 0.9903741115527548, 'beta_2': 0.8557022605759107, 'early_stopping': True, 'n_iter_no_change': 30}. Best is trial 49 with value: 0.9094202898550725.\n",
      "[I 2025-08-21 01:33:06,246] Trial 74 finished with value: 0.8695652173913043 and parameters: {'hidden_layer_sizes': (100, 50), 'activation': 'logistic', 'solver': 'lbfgs', 'alpha': 8.386661636747201e-05, 'batch_size': 64, 'learning_rate': 'adaptive', 'learning_rate_init': 1.1896293783894551e-05, 'power_t': 0.4306628270291509, 'beta_1': 0.9898897517764, 'beta_2': 0.8542359923145536, 'early_stopping': True, 'n_iter_no_change': 31}. Best is trial 49 with value: 0.9094202898550725.\n",
      "[I 2025-08-21 01:33:08,118] Trial 77 finished with value: 0.8442028985507246 and parameters: {'hidden_layer_sizes': (100, 100), 'activation': 'relu', 'solver': 'lbfgs', 'alpha': 0.013276915632443065, 'batch_size': 64, 'learning_rate': 'invscaling', 'learning_rate_init': 6.619831857540223e-05, 'power_t': 0.8597094595786101, 'beta_1': 0.852100512386942, 'beta_2': 0.8614034787743993, 'early_stopping': True, 'n_iter_no_change': 30}. Best is trial 49 with value: 0.9094202898550725.\n",
      "[I 2025-08-21 01:33:11,352] Trial 78 finished with value: 0.8369565217391305 and parameters: {'hidden_layer_sizes': (100, 100), 'activation': 'relu', 'solver': 'lbfgs', 'alpha': 0.0022628779852554783, 'batch_size': 128, 'learning_rate': 'invscaling', 'learning_rate_init': 7.175929028190955e-05, 'power_t': 0.8562733004208267, 'beta_1': 0.9882074217218288, 'beta_2': 0.8532333702895541, 'early_stopping': True, 'n_iter_no_change': 30}. Best is trial 49 with value: 0.9094202898550725.\n",
      "[I 2025-08-21 01:33:12,113] Trial 75 finished with value: 0.8840579710144928 and parameters: {'hidden_layer_sizes': (100, 100), 'activation': 'logistic', 'solver': 'lbfgs', 'alpha': 8.48277666374591e-05, 'batch_size': 64, 'learning_rate': 'adaptive', 'learning_rate_init': 7.277774545987624e-05, 'power_t': 0.4677198292418001, 'beta_1': 0.985792895159521, 'beta_2': 0.86070309211961, 'early_stopping': False, 'n_iter_no_change': 38}. Best is trial 49 with value: 0.9094202898550725.\n",
      "[I 2025-08-21 01:33:14,275] Trial 79 finished with value: 0.8586956521739131 and parameters: {'hidden_layer_sizes': (100, 100), 'activation': 'relu', 'solver': 'lbfgs', 'alpha': 0.0017598488965833948, 'batch_size': 64, 'learning_rate': 'invscaling', 'learning_rate_init': 7.297154439897965e-05, 'power_t': 0.8576241902944084, 'beta_1': 0.9897387965464154, 'beta_2': 0.9231539653123565, 'early_stopping': True, 'n_iter_no_change': 30}. Best is trial 49 with value: 0.9094202898550725.\n",
      "[I 2025-08-21 01:33:16,319] Trial 80 finished with value: 0.8115942028985508 and parameters: {'hidden_layer_sizes': (100, 100), 'activation': 'relu', 'solver': 'lbfgs', 'alpha': 0.0024423246208242137, 'batch_size': 64, 'learning_rate': 'invscaling', 'learning_rate_init': 6.843400628820026e-05, 'power_t': 0.8480614205197279, 'beta_1': 0.8615802957395791, 'beta_2': 0.9222177298613575, 'early_stopping': True, 'n_iter_no_change': 31}. Best is trial 49 with value: 0.9094202898550725.\n",
      "[I 2025-08-21 01:33:23,335] Trial 20 finished with value: 0.5869565217391305 and parameters: {'hidden_layer_sizes': (50, 50), 'activation': 'relu', 'solver': 'sgd', 'alpha': 0.0005388105348182035, 'batch_size': 64, 'learning_rate': 'invscaling', 'learning_rate_init': 0.0001610440167506576, 'power_t': 0.5635953646495379, 'beta_1': 0.941104842489917, 'beta_2': 0.8875740166408913, 'early_stopping': False, 'n_iter_no_change': 6, 'momentum': 0.5987297753967656, 'nesterovs_momentum': False}. Best is trial 49 with value: 0.9094202898550725.\n",
      "[I 2025-08-21 01:33:24,549] Trial 7 finished with value: 0.7318840579710145 and parameters: {'hidden_layer_sizes': (50, 50), 'activation': 'logistic', 'solver': 'sgd', 'alpha': 0.00014340064109819142, 'batch_size': 64, 'learning_rate': 'adaptive', 'learning_rate_init': 0.025744197597560418, 'power_t': 0.37169154899424994, 'beta_1': 0.9698041074336493, 'beta_2': 0.9201215784830701, 'early_stopping': False, 'n_iter_no_change': 41, 'momentum': 0.7997410434807132, 'nesterovs_momentum': False}. Best is trial 49 with value: 0.9094202898550725.\n",
      "[I 2025-08-21 01:33:30,531] Trial 92 finished with value: 0.8985507246376812 and parameters: {'hidden_layer_sizes': (150, 100), 'activation': 'logistic', 'solver': 'adam', 'alpha': 1.564559791730903e-05, 'batch_size': 128, 'learning_rate': 'invscaling', 'learning_rate_init': 0.0005492774573076707, 'power_t': 0.15567103989775888, 'beta_1': 0.862977977229569, 'beta_2': 0.9232750233632705, 'early_stopping': False, 'n_iter_no_change': 11}. Best is trial 49 with value: 0.9094202898550725.\n",
      "[I 2025-08-21 01:33:33,586] Trial 97 finished with value: 0.6920289855072463 and parameters: {'hidden_layer_sizes': (150, 100), 'activation': 'logistic', 'solver': 'adam', 'alpha': 5.1048100236808454e-05, 'batch_size': 128, 'learning_rate': 'invscaling', 'learning_rate_init': 0.00019896479072111593, 'power_t': 0.5275566962637797, 'beta_1': 0.889606686737507, 'beta_2': 0.9103856005785821, 'early_stopping': True, 'n_iter_no_change': 27}. Best is trial 49 with value: 0.9094202898550725.\n",
      "[I 2025-08-21 01:33:34,795] Trial 93 finished with value: 0.8804347826086957 and parameters: {'hidden_layer_sizes': (150, 100), 'activation': 'logistic', 'solver': 'adam', 'alpha': 0.003762301860930927, 'batch_size': 128, 'learning_rate': 'invscaling', 'learning_rate_init': 0.0005731315280568048, 'power_t': 0.21236485038921976, 'beta_1': 0.8931651715866165, 'beta_2': 0.912931735893176, 'early_stopping': False, 'n_iter_no_change': 27}. Best is trial 49 with value: 0.9094202898550725.\n",
      "[I 2025-08-21 01:33:40,817] Trial 99 finished with value: 0.8804347826086957 and parameters: {'hidden_layer_sizes': (50,), 'activation': 'relu', 'solver': 'lbfgs', 'alpha': 0.0005809131714157263, 'batch_size': 128, 'learning_rate': 'adaptive', 'learning_rate_init': 1.8980860049613126e-05, 'power_t': 0.30557135102787614, 'beta_1': 0.9071118674566213, 'beta_2': 0.8233306100944587, 'early_stopping': True, 'n_iter_no_change': 16}. Best is trial 49 with value: 0.9094202898550725.\n",
      "[I 2025-08-21 01:33:40,976] Trial 98 finished with value: 0.8985507246376812 and parameters: {'hidden_layer_sizes': (50,), 'activation': 'relu', 'solver': 'lbfgs', 'alpha': 0.0036169804602846755, 'batch_size': 128, 'learning_rate': 'adaptive', 'learning_rate_init': 1.8800528464924954e-05, 'power_t': 0.5686393784055096, 'beta_1': 0.8920892618328979, 'beta_2': 0.9101491587003387, 'early_stopping': True, 'n_iter_no_change': 28}. Best is trial 49 with value: 0.9094202898550725.\n",
      "[I 2025-08-21 01:33:42,360] Trial 95 finished with value: 0.8876811594202898 and parameters: {'hidden_layer_sizes': (150, 100), 'activation': 'logistic', 'solver': 'adam', 'alpha': 0.003777242823163989, 'batch_size': 128, 'learning_rate': 'invscaling', 'learning_rate_init': 0.0005677036517585792, 'power_t': 0.20424936924141496, 'beta_1': 0.8948951196826794, 'beta_2': 0.9085708350333689, 'early_stopping': False, 'n_iter_no_change': 11}. Best is trial 49 with value: 0.9094202898550725.\n",
      "[I 2025-08-21 01:33:44,740] Trial 90 finished with value: 0.8804347826086957 and parameters: {'hidden_layer_sizes': (150, 100), 'activation': 'logistic', 'solver': 'adam', 'alpha': 0.0035733134068346335, 'batch_size': 128, 'learning_rate': 'invscaling', 'learning_rate_init': 0.00021639996732836098, 'power_t': 0.5424862507269818, 'beta_1': 0.8021435868561646, 'beta_2': 0.9214693136315971, 'early_stopping': False, 'n_iter_no_change': 10}. Best is trial 49 with value: 0.9094202898550725.\n",
      "[I 2025-08-21 01:33:45,957] Trial 81 finished with value: 0.8768115942028986 and parameters: {'hidden_layer_sizes': (150, 100), 'activation': 'logistic', 'solver': 'adam', 'alpha': 0.01262601987740547, 'batch_size': 64, 'learning_rate': 'adaptive', 'learning_rate_init': 0.0002024875831204989, 'power_t': 0.24113117043320353, 'beta_1': 0.9876732171317331, 'beta_2': 0.9229677729879658, 'early_stopping': False, 'n_iter_no_change': 11}. Best is trial 49 with value: 0.9094202898550725.\n",
      "[I 2025-08-21 01:33:46,543] Trial 91 finished with value: 0.8913043478260869 and parameters: {'hidden_layer_sizes': (150, 100), 'activation': 'logistic', 'solver': 'adam', 'alpha': 1.532800180367681e-05, 'batch_size': 128, 'learning_rate': 'invscaling', 'learning_rate_init': 0.0005172263283464024, 'power_t': 0.1508211241361831, 'beta_1': 0.8933227127017084, 'beta_2': 0.9224571408185113, 'early_stopping': False, 'n_iter_no_change': 27}. Best is trial 49 with value: 0.9094202898550725.\n",
      "[I 2025-08-21 01:33:50,751] Trial 94 finished with value: 0.8840579710144928 and parameters: {'hidden_layer_sizes': (150, 100), 'activation': 'logistic', 'solver': 'adam', 'alpha': 0.003651418543003308, 'batch_size': 128, 'learning_rate': 'invscaling', 'learning_rate_init': 0.00019482096361846145, 'power_t': 0.16216575854982362, 'beta_1': 0.8893810106955129, 'beta_2': 0.909105781126153, 'early_stopping': False, 'n_iter_no_change': 10}. Best is trial 49 with value: 0.9094202898550725.\n",
      "[I 2025-08-21 01:33:58,762] Trial 89 finished with value: 0.8260869565217391 and parameters: {'hidden_layer_sizes': (150, 100), 'activation': 'logistic', 'solver': 'adam', 'alpha': 0.0027891741316314915, 'batch_size': 128, 'learning_rate': 'invscaling', 'learning_rate_init': 7.76519298578262e-05, 'power_t': 0.15827503119562333, 'beta_1': 0.8569553927664804, 'beta_2': 0.9089597532955102, 'early_stopping': False, 'n_iter_no_change': 10}. Best is trial 49 with value: 0.9094202898550725.\n",
      "[I 2025-08-21 01:34:07,698] Trial 85 finished with value: 0.894927536231884 and parameters: {'hidden_layer_sizes': (150, 100), 'activation': 'logistic', 'solver': 'adam', 'alpha': 1.5523733057143938e-05, 'batch_size': 64, 'learning_rate': 'invscaling', 'learning_rate_init': 7.670209530874198e-05, 'power_t': 0.1892184474439002, 'beta_1': 0.8912720337920984, 'beta_2': 0.9238429538435188, 'early_stopping': False, 'n_iter_no_change': 11}. Best is trial 49 with value: 0.9094202898550725.\n",
      "[I 2025-08-21 01:34:07,841] Trial 86 finished with value: 0.8804347826086957 and parameters: {'hidden_layer_sizes': (150, 100), 'activation': 'logistic', 'solver': 'adam', 'alpha': 0.015329854349594682, 'batch_size': 64, 'learning_rate': 'invscaling', 'learning_rate_init': 7.60828925082263e-05, 'power_t': 0.19231021672547274, 'beta_1': 0.8599373263492011, 'beta_2': 0.9214346859660384, 'early_stopping': False, 'n_iter_no_change': 10}. Best is trial 49 with value: 0.9094202898550725.\n",
      "[I 2025-08-21 01:34:08,313] Trial 87 finished with value: 0.8514492753623188 and parameters: {'hidden_layer_sizes': (150, 100), 'activation': 'logistic', 'solver': 'adam', 'alpha': 0.0020015679444377417, 'batch_size': 128, 'learning_rate': 'invscaling', 'learning_rate_init': 6.906074921778182e-05, 'power_t': 0.2195771040145619, 'beta_1': 0.8927036640544586, 'beta_2': 0.9103275947925452, 'early_stopping': False, 'n_iter_no_change': 11}. Best is trial 49 with value: 0.9094202898550725.\n",
      "[I 2025-08-21 01:34:11,899] Trial 88 finished with value: 0.8913043478260869 and parameters: {'hidden_layer_sizes': (150, 100), 'activation': 'logistic', 'solver': 'adam', 'alpha': 0.0035792641101859445, 'batch_size': 64, 'learning_rate': 'invscaling', 'learning_rate_init': 6.332362887920926e-05, 'power_t': 0.42049404325689793, 'beta_1': 0.8651398486100197, 'beta_2': 0.907205576280998, 'early_stopping': False, 'n_iter_no_change': 10}. Best is trial 49 with value: 0.9094202898550725.\n",
      "[I 2025-08-21 01:34:13,847] Trial 96 finished with value: 0.7862318840579711 and parameters: {'hidden_layer_sizes': (150, 100), 'activation': 'logistic', 'solver': 'adam', 'alpha': 0.004269548748281764, 'batch_size': 128, 'learning_rate': 'invscaling', 'learning_rate_init': 3.0999231595829895e-05, 'power_t': 0.5516109207153551, 'beta_1': 0.8883907085635034, 'beta_2': 0.9079528201038098, 'early_stopping': False, 'n_iter_no_change': 28}. Best is trial 49 with value: 0.9094202898550725.\n",
      "[I 2025-08-21 01:34:19,059] Trial 82 finished with value: 0.9057971014492754 and parameters: {'hidden_layer_sizes': (150, 100), 'activation': 'logistic', 'solver': 'adam', 'alpha': 0.00018422382866149114, 'batch_size': 64, 'learning_rate': 'adaptive', 'learning_rate_init': 6.80039924087038e-05, 'power_t': 0.5512197908092396, 'beta_1': 0.9876803838791445, 'beta_2': 0.9239025664319113, 'early_stopping': False, 'n_iter_no_change': 30}. Best is trial 49 with value: 0.9094202898550725.\n",
      "[I 2025-08-21 01:34:19,266] Trial 83 finished with value: 0.9021739130434783 and parameters: {'hidden_layer_sizes': (150, 100), 'activation': 'logistic', 'solver': 'adam', 'alpha': 0.014359953087256495, 'batch_size': 64, 'learning_rate': 'invscaling', 'learning_rate_init': 7.493697155733152e-05, 'power_t': 0.1695257240584767, 'beta_1': 0.8624876562383847, 'beta_2': 0.9245121244053238, 'early_stopping': False, 'n_iter_no_change': 39}. Best is trial 49 with value: 0.9094202898550725.\n",
      "[I 2025-08-21 01:34:19,349] Trial 84 finished with value: 0.9057971014492754 and parameters: {'hidden_layer_sizes': (150, 100), 'activation': 'logistic', 'solver': 'adam', 'alpha': 0.01118018542789833, 'batch_size': 64, 'learning_rate': 'invscaling', 'learning_rate_init': 7.993463751672761e-05, 'power_t': 0.1963512470407, 'beta_1': 0.9935108210020064, 'beta_2': 0.9240850005363039, 'early_stopping': False, 'n_iter_no_change': 38}. Best is trial 49 with value: 0.9094202898550725.\n"
     ]
    }
   ],
   "source": [
    "def objective(trial):\n",
    "    hyperparams = {\n",
    "        \"hidden_layer_sizes\": trial.suggest_categorical(\"hidden_layer_sizes\", [\n",
    "            (50,), (100,), (50, 50), (100, 50), (100, 100), (150, 100)\n",
    "        ]),\n",
    "        \"activation\": trial.suggest_categorical(\"activation\", [\"identity\", \"logistic\", \"tanh\", \"relu\"]),\n",
    "        \"solver\": trial.suggest_categorical(\"solver\", [\"lbfgs\", \"sgd\", \"adam\"]),\n",
    "        \"alpha\": trial.suggest_float(\"alpha\", 1e-5, 1e-1, log=True),\n",
    "        \"batch_size\": trial.suggest_categorical(\"batch_size\", [32, 64, 128, 256]),\n",
    "        \"learning_rate\": trial.suggest_categorical(\"learning_rate\", [\"constant\", \"invscaling\", \"adaptive\"]),\n",
    "        \"learning_rate_init\": trial.suggest_float(\"learning_rate_init\", 1e-5, 1e-1, log=True),\n",
    "        \"power_t\": trial.suggest_float(\"power_t\", 0.1, 0.9), \n",
    "        \"beta_1\": trial.suggest_float(\"beta_1\", 0.8, 0.999),  \n",
    "        \"beta_2\": trial.suggest_float(\"beta_2\", 0.8, 0.999), \n",
    "        \"max_iter\": 1000,  \n",
    "        \"early_stopping\": trial.suggest_categorical(\"early_stopping\", [True, False]),\n",
    "        \"n_iter_no_change\": trial.suggest_int(\"n_iter_no_change\", 5, 50),\n",
    "    }\n",
    "\n",
    "    if hyperparams[\"solver\"] == \"sgd\":\n",
    "        hyperparams[\"momentum\"] = trial.suggest_float(\"momentum\", 0.0, 0.99)\n",
    "        hyperparams[\"nesterovs_momentum\"] = trial.suggest_categorical(\"nesterovs_momentum\", [True, False])\n",
    "    model = MLPClassifier(**hyperparams, random_state=42)\n",
    "    model.fit(X_train, y_train)\n",
    "    y_pred = model.predict(X_test)\n",
    "    acc = accuracy_score(y_test, y_pred)\n",
    "    return acc  \n",
    "\n",
    "study = optuna.create_study(direction=\"maximize\")\n",
    "study.optimize(objective, n_trials=100, n_jobs=-1)"
   ]
  },
  {
   "cell_type": "code",
   "execution_count": 8,
   "id": "0ecadef9",
   "metadata": {},
   "outputs": [
    {
     "name": "stdout",
     "output_type": "stream",
     "text": [
      "0.9057971014492754\n"
     ]
    }
   ],
   "source": [
    "best_hiper = study.best_params\n",
    "model = MLPClassifier(**best_hiper, random_state=369)\n",
    "model.fit(X_train, y_train)\n",
    "y_pred = model.predict(X_test)\n",
    "acc = accuracy_score(y_test, y_pred)\n",
    "print(acc)\n"
   ]
  }
 ],
 "metadata": {
  "kernelspec": {
   "display_name": "venv",
   "language": "python",
   "name": "python3"
  },
  "language_info": {
   "codemirror_mode": {
    "name": "ipython",
    "version": 3
   },
   "file_extension": ".py",
   "mimetype": "text/x-python",
   "name": "python",
   "nbconvert_exporter": "python",
   "pygments_lexer": "ipython3",
   "version": "3.10.0"
  }
 },
 "nbformat": 4,
 "nbformat_minor": 5
}
