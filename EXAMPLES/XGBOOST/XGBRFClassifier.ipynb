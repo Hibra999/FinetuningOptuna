{
 "cells": [
  {
   "cell_type": "code",
   "execution_count": 1,
   "id": "821a4e45",
   "metadata": {},
   "outputs": [
    {
     "name": "stderr",
     "output_type": "stream",
     "text": [
      "c:\\Users\\Administrator\\Desktop\\FinetuningOptuna\\venv\\lib\\site-packages\\tqdm\\auto.py:21: TqdmWarning: IProgress not found. Please update jupyter and ipywidgets. See https://ipywidgets.readthedocs.io/en/stable/user_install.html\n",
      "  from .autonotebook import tqdm as notebook_tqdm\n"
     ]
    }
   ],
   "source": [
    "import optuna\n",
    "import pandas as pd\n",
    "import numpy as np\n",
    "from sklearn.model_selection import train_test_split\n",
    "import xgboost as xgb\n",
    "from sklearn.metrics import accuracy_score\n",
    "\n",
    "import warnings\n",
    "warnings.filterwarnings(\"ignore\")"
   ]
  },
  {
   "cell_type": "code",
   "execution_count": 2,
   "id": "5f48fc21",
   "metadata": {},
   "outputs": [],
   "source": [
    "df = pd.read_csv(\"heart.csv\")\n",
    "df = pd.get_dummies(df)\n",
    "X = df.drop(\"HeartDisease\", axis=1).copy()\n",
    "y = df[\"HeartDisease\"].copy()\n",
    "X_train, X_test, y_train, y_test = train_test_split(X, y, test_size=0.3, random_state=369)\n"
   ]
  },
  {
   "cell_type": "code",
   "execution_count": 3,
   "id": "1682dfa0",
   "metadata": {},
   "outputs": [
    {
     "data": {
      "text/plain": [
       "0.8876811594202898"
      ]
     },
     "execution_count": 3,
     "metadata": {},
     "output_type": "execute_result"
    }
   ],
   "source": [
    "model = xgb.XGBRFClassifier(device = \"cuda\")\n",
    "model.fit(X_train, y_train)\n",
    "y_pred = model.predict(X_test)\n",
    "accuracy_score(y_test, y_pred)\n"
   ]
  },
  {
   "cell_type": "code",
   "execution_count": 4,
   "id": "e2cc22a5",
   "metadata": {},
   "outputs": [
    {
     "name": "stderr",
     "output_type": "stream",
     "text": [
      "[I 2025-08-22 21:38:06,708] A new study created in memory with name: no-name-e34e487e-a952-44a6-83af-3ae599bc3838\n",
      "[I 2025-08-22 21:38:29,598] Trial 11 finished with value: 0.5434782608695652 and parameters: {'n_estimators': 244, 'max_depth': 8, 'learning_rate': 0.017663641520000436, 'subsample': 0.9757166366167122, 'colsample_bytree': 0.9530742428662575, 'reg_alpha': 0.00021839497067271387, 'reg_lambda': 0.00021476635465458207, 'min_child_weight': 10, 'gamma': 0.36750006048328343}. Best is trial 11 with value: 0.5434782608695652.\n",
      "[I 2025-08-22 21:38:32,877] Trial 4 finished with value: 0.5434782608695652 and parameters: {'n_estimators': 323, 'max_depth': 9, 'learning_rate': 0.011852633407766348, 'subsample': 0.7019234466737588, 'colsample_bytree': 0.7918688859370825, 'reg_alpha': 8.730309993686564e-05, 'reg_lambda': 1.6179465240937942e-07, 'min_child_weight': 9, 'gamma': 0.4321597544161573}. Best is trial 11 with value: 0.5434782608695652.\n",
      "[I 2025-08-22 21:38:33,405] Trial 8 finished with value: 0.8586956521739131 and parameters: {'n_estimators': 574, 'max_depth': 3, 'learning_rate': 0.2665550083816367, 'subsample': 0.9537420863190038, 'colsample_bytree': 0.8140816483568326, 'reg_alpha': 2.182629911912824e-06, 'reg_lambda': 1.890844886839106e-05, 'min_child_weight': 4, 'gamma': 0.47229492922049143}. Best is trial 8 with value: 0.8586956521739131.\n",
      "[I 2025-08-22 21:38:36,657] Trial 12 finished with value: 0.5434782608695652 and parameters: {'n_estimators': 649, 'max_depth': 3, 'learning_rate': 0.010833732038867267, 'subsample': 0.7294240160320459, 'colsample_bytree': 0.6712606419708526, 'reg_alpha': 6.398789207045004e-05, 'reg_lambda': 2.7823961860474743e-06, 'min_child_weight': 5, 'gamma': 0.0749545538186252}. Best is trial 8 with value: 0.8586956521739131.\n",
      "[I 2025-08-22 21:38:37,932] Trial 9 finished with value: 0.6956521739130435 and parameters: {'n_estimators': 413, 'max_depth': 5, 'learning_rate': 0.12406357900032457, 'subsample': 0.7308444039498709, 'colsample_bytree': 0.9410205892362983, 'reg_alpha': 0.02902004985967024, 'reg_lambda': 0.07568069950149783, 'min_child_weight': 10, 'gamma': 0.2429857050320695}. Best is trial 8 with value: 0.8586956521739131.\n",
      "[I 2025-08-22 21:39:02,968] Trial 15 finished with value: 0.5434782608695652 and parameters: {'n_estimators': 398, 'max_depth': 7, 'learning_rate': 0.08376460239954915, 'subsample': 0.9624991513770209, 'colsample_bytree': 0.9576779743009692, 'reg_alpha': 0.0033709002006006164, 'reg_lambda': 9.243733361349846e-05, 'min_child_weight': 6, 'gamma': 0.026083463158557252}. Best is trial 8 with value: 0.8586956521739131.\n",
      "[I 2025-08-22 21:39:06,005] Trial 13 finished with value: 0.5434782608695652 and parameters: {'n_estimators': 322, 'max_depth': 8, 'learning_rate': 0.010612823294699784, 'subsample': 0.8306398689112757, 'colsample_bytree': 0.9626507301393746, 'reg_alpha': 2.7695599403675987e-05, 'reg_lambda': 0.0009837088152283562, 'min_child_weight': 3, 'gamma': 0.1803888588021751}. Best is trial 8 with value: 0.8586956521739131.\n",
      "[I 2025-08-22 21:39:09,203] Trial 3 finished with value: 0.5434782608695652 and parameters: {'n_estimators': 674, 'max_depth': 5, 'learning_rate': 0.05779758088673411, 'subsample': 0.6903109702781604, 'colsample_bytree': 0.6136971561053873, 'reg_alpha': 1.9392908291839555e-08, 'reg_lambda': 0.014288225556307462, 'min_child_weight': 6, 'gamma': 0.2274154789458938}. Best is trial 8 with value: 0.8586956521739131.\n",
      "[I 2025-08-22 21:39:13,548] Trial 19 finished with value: 0.5434782608695652 and parameters: {'n_estimators': 329, 'max_depth': 6, 'learning_rate': 0.06646478382466764, 'subsample': 0.9696936153090195, 'colsample_bytree': 0.6965916471754353, 'reg_alpha': 0.004897046826710884, 'reg_lambda': 0.00893158746743523, 'min_child_weight': 8, 'gamma': 0.17038326552946947}. Best is trial 8 with value: 0.8586956521739131.\n",
      "[I 2025-08-22 21:39:13,631] Trial 1 finished with value: 0.8659420289855072 and parameters: {'n_estimators': 536, 'max_depth': 5, 'learning_rate': 0.2818498431273224, 'subsample': 0.9018361176443357, 'colsample_bytree': 0.9985610260929291, 'reg_alpha': 3.226060325777806e-06, 'reg_lambda': 0.3636338870897687, 'min_child_weight': 2, 'gamma': 0.4188282740238961}. Best is trial 1 with value: 0.8659420289855072.\n",
      "[I 2025-08-22 21:39:14,798] Trial 6 finished with value: 0.5434782608695652 and parameters: {'n_estimators': 545, 'max_depth': 8, 'learning_rate': 0.015266991694856407, 'subsample': 0.7720144729232948, 'colsample_bytree': 0.6493552475184624, 'reg_alpha': 4.4999977581366584e-08, 'reg_lambda': 1.3496701254897173e-07, 'min_child_weight': 6, 'gamma': 0.002158952702419059}. Best is trial 1 with value: 0.8659420289855072.\n",
      "[I 2025-08-22 21:39:16,739] Trial 16 finished with value: 0.5434782608695652 and parameters: {'n_estimators': 951, 'max_depth': 3, 'learning_rate': 0.015091105534833033, 'subsample': 0.6295304459151868, 'colsample_bytree': 0.9942187508125653, 'reg_alpha': 7.956196490778523e-07, 'reg_lambda': 0.00013374813871818315, 'min_child_weight': 6, 'gamma': 0.2346747487061403}. Best is trial 1 with value: 0.8659420289855072.\n",
      "[I 2025-08-22 21:39:21,491] Trial 2 finished with value: 0.5434782608695652 and parameters: {'n_estimators': 506, 'max_depth': 7, 'learning_rate': 0.02086940315551279, 'subsample': 0.8023207926921964, 'colsample_bytree': 0.839283383363987, 'reg_alpha': 4.404699466939738e-06, 'reg_lambda': 9.516230689984558e-07, 'min_child_weight': 4, 'gamma': 0.18982014080379023}. Best is trial 1 with value: 0.8659420289855072.\n",
      "[I 2025-08-22 21:39:30,081] Trial 23 finished with value: 0.5434782608695652 and parameters: {'n_estimators': 178, 'max_depth': 7, 'learning_rate': 0.02702396463934417, 'subsample': 0.7740417756515721, 'colsample_bytree': 0.6670851108959311, 'reg_alpha': 4.579136493271573e-07, 'reg_lambda': 0.33722518660930806, 'min_child_weight': 5, 'gamma': 0.047880971578449893}. Best is trial 1 with value: 0.8659420289855072.\n",
      "[I 2025-08-22 21:39:36,299] Trial 0 finished with value: 0.5434782608695652 and parameters: {'n_estimators': 662, 'max_depth': 7, 'learning_rate': 0.025589210238657355, 'subsample': 0.7236950715232547, 'colsample_bytree': 0.8058898796820451, 'reg_alpha': 0.00011563830957888879, 'reg_lambda': 0.025554202030990625, 'min_child_weight': 4, 'gamma': 0.32254751878901294}. Best is trial 1 with value: 0.8659420289855072.\n",
      "[I 2025-08-22 21:39:38,374] Trial 10 finished with value: 0.7608695652173914 and parameters: {'n_estimators': 727, 'max_depth': 8, 'learning_rate': 0.16279362830875382, 'subsample': 0.989814644525743, 'colsample_bytree': 0.6775326984221542, 'reg_alpha': 0.007892323204909315, 'reg_lambda': 9.909493043898836e-06, 'min_child_weight': 8, 'gamma': 0.009963802902350216}. Best is trial 1 with value: 0.8659420289855072.\n",
      "[I 2025-08-22 21:39:43,678] Trial 18 finished with value: 0.5434782608695652 and parameters: {'n_estimators': 396, 'max_depth': 10, 'learning_rate': 0.028324576269725753, 'subsample': 0.9635033209683179, 'colsample_bytree': 0.66180132224017, 'reg_alpha': 2.6774855544429154e-07, 'reg_lambda': 0.05423938202129363, 'min_child_weight': 4, 'gamma': 0.15705244789688338}. Best is trial 1 with value: 0.8659420289855072.\n",
      "[I 2025-08-22 21:39:45,505] Trial 20 finished with value: 0.5434782608695652 and parameters: {'n_estimators': 775, 'max_depth': 5, 'learning_rate': 0.09798673970861037, 'subsample': 0.7505739405835485, 'colsample_bytree': 0.7429002261125898, 'reg_alpha': 1.785060154036283e-05, 'reg_lambda': 0.04591324616993952, 'min_child_weight': 9, 'gamma': 0.17681390989644846}. Best is trial 1 with value: 0.8659420289855072.\n",
      "[I 2025-08-22 21:39:52,922] Trial 22 finished with value: 0.5434782608695652 and parameters: {'n_estimators': 285, 'max_depth': 6, 'learning_rate': 0.03462836291883663, 'subsample': 0.9059454802244078, 'colsample_bytree': 0.8769216997105516, 'reg_alpha': 7.618818857045638e-08, 'reg_lambda': 0.0015900678141548053, 'min_child_weight': 3, 'gamma': 0.11325086171763948}. Best is trial 1 with value: 0.8659420289855072.\n",
      "[I 2025-08-22 21:39:55,922] Trial 17 finished with value: 0.5434782608695652 and parameters: {'n_estimators': 685, 'max_depth': 6, 'learning_rate': 0.014896385955574288, 'subsample': 0.9900470886344213, 'colsample_bytree': 0.6158027195642771, 'reg_alpha': 3.7272756968336115e-06, 'reg_lambda': 0.0010169368178872772, 'min_child_weight': 6, 'gamma': 0.49959939276752596}. Best is trial 1 with value: 0.8659420289855072.\n",
      "[I 2025-08-22 21:39:56,217] Trial 26 finished with value: 0.8623188405797102 and parameters: {'n_estimators': 831, 'max_depth': 3, 'learning_rate': 0.25680980716629365, 'subsample': 0.859708875453116, 'colsample_bytree': 0.8382433918441202, 'reg_alpha': 7.318961169190509e-07, 'reg_lambda': 0.5680512196180799, 'min_child_weight': 1, 'gamma': 0.4929426382769716}. Best is trial 1 with value: 0.8659420289855072.\n",
      "[I 2025-08-22 21:40:02,248] Trial 21 finished with value: 0.5434782608695652 and parameters: {'n_estimators': 611, 'max_depth': 5, 'learning_rate': 0.0924695453079443, 'subsample': 0.7652059551512491, 'colsample_bytree': 0.857422568889734, 'reg_alpha': 0.007096657641378787, 'reg_lambda': 4.665202900849151e-08, 'min_child_weight': 6, 'gamma': 0.48462779187460203}. Best is trial 1 with value: 0.8659420289855072.\n",
      "[I 2025-08-22 21:40:02,926] Trial 7 finished with value: 0.5434782608695652 and parameters: {'n_estimators': 912, 'max_depth': 7, 'learning_rate': 0.01650306070702486, 'subsample': 0.9686173066784143, 'colsample_bytree': 0.7756029794107835, 'reg_alpha': 0.06522176583569066, 'reg_lambda': 8.322246075253834e-08, 'min_child_weight': 6, 'gamma': 0.3282898404229491}. Best is trial 1 with value: 0.8659420289855072.\n",
      "[I 2025-08-22 21:40:24,952] Trial 5 finished with value: 0.5434782608695652 and parameters: {'n_estimators': 945, 'max_depth': 6, 'learning_rate': 0.02056174801009944, 'subsample': 0.9124112459032097, 'colsample_bytree': 0.7145338879956804, 'reg_alpha': 0.0026341057269915233, 'reg_lambda': 0.0019458253263259426, 'min_child_weight': 4, 'gamma': 0.03025686875162964}. Best is trial 1 with value: 0.8659420289855072.\n",
      "[I 2025-08-22 21:40:25,707] Trial 27 finished with value: 0.8695652173913043 and parameters: {'n_estimators': 817, 'max_depth': 4, 'learning_rate': 0.2998750916975157, 'subsample': 0.8586165050155578, 'colsample_bytree': 0.8678857949698735, 'reg_alpha': 1.2893536184890815e-06, 'reg_lambda': 0.324861556278076, 'min_child_weight': 1, 'gamma': 0.4883838483434359}. Best is trial 27 with value: 0.8695652173913043.\n",
      "[I 2025-08-22 21:40:26,536] Trial 28 finished with value: 0.8659420289855072 and parameters: {'n_estimators': 775, 'max_depth': 4, 'learning_rate': 0.2411081148294737, 'subsample': 0.8569688746478099, 'colsample_bytree': 0.8452931653344556, 'reg_alpha': 5.572061676278932e-07, 'reg_lambda': 0.9113498348403629, 'min_child_weight': 1, 'gamma': 0.48066769281926675}. Best is trial 27 with value: 0.8695652173913043.\n",
      "[I 2025-08-22 21:40:31,585] Trial 29 finished with value: 0.8731884057971014 and parameters: {'n_estimators': 728, 'max_depth': 4, 'learning_rate': 0.288058717735281, 'subsample': 0.8933646878557893, 'colsample_bytree': 0.8632449905269044, 'reg_alpha': 1.7857889671944856e-06, 'reg_lambda': 7.565528848893675e-06, 'min_child_weight': 1, 'gamma': 0.4924820159874104}. Best is trial 29 with value: 0.8731884057971014.\n",
      "[I 2025-08-22 21:40:39,565] Trial 24 finished with value: 0.5434782608695652 and parameters: {'n_estimators': 377, 'max_depth': 10, 'learning_rate': 0.07016166855177142, 'subsample': 0.81748509977068, 'colsample_bytree': 0.6433737888026146, 'reg_alpha': 3.430161485365785e-06, 'reg_lambda': 0.03162673296251152, 'min_child_weight': 2, 'gamma': 0.3125866328709885}. Best is trial 29 with value: 0.8731884057971014.\n",
      "[I 2025-08-22 21:40:48,485] Trial 30 finished with value: 0.8731884057971014 and parameters: {'n_estimators': 850, 'max_depth': 4, 'learning_rate': 0.28807040236053066, 'subsample': 0.8995068478737898, 'colsample_bytree': 0.8755632061490952, 'reg_alpha': 2.2195613211675076e-06, 'reg_lambda': 1.048613493324573e-05, 'min_child_weight': 1, 'gamma': 0.4942882499032475}. Best is trial 29 with value: 0.8731884057971014.\n",
      "[I 2025-08-22 21:40:51,427] Trial 31 finished with value: 0.8695652173913043 and parameters: {'n_estimators': 863, 'max_depth': 4, 'learning_rate': 0.2851517246874482, 'subsample': 0.8933398663611469, 'colsample_bytree': 0.894096147146806, 'reg_alpha': 0.30930555768636503, 'reg_lambda': 1.772120345252151e-05, 'min_child_weight': 1, 'gamma': 0.47951959128422883}. Best is trial 29 with value: 0.8731884057971014.\n",
      "[I 2025-08-22 21:40:55,897] Trial 32 finished with value: 0.8695652173913043 and parameters: {'n_estimators': 853, 'max_depth': 4, 'learning_rate': 0.2703450852879236, 'subsample': 0.8891550252651838, 'colsample_bytree': 0.8967915073696047, 'reg_alpha': 0.32983513588749114, 'reg_lambda': 1.0305569228637237e-08, 'min_child_weight': 1, 'gamma': 0.48169385480785887}. Best is trial 29 with value: 0.8731884057971014.\n",
      "[I 2025-08-22 21:40:57,248] Trial 33 finished with value: 0.8695652173913043 and parameters: {'n_estimators': 854, 'max_depth': 4, 'learning_rate': 0.2600063229543127, 'subsample': 0.8966145537852247, 'colsample_bytree': 0.8698702823598883, 'reg_alpha': 3.653001680841039e-06, 'reg_lambda': 0.0016795346166909994, 'min_child_weight': 1, 'gamma': 0.4939141259641785}. Best is trial 29 with value: 0.8731884057971014.\n",
      "[I 2025-08-22 21:41:04,232] Trial 34 finished with value: 0.8695652173913043 and parameters: {'n_estimators': 846, 'max_depth': 4, 'learning_rate': 0.2703823953571204, 'subsample': 0.8870507410950349, 'colsample_bytree': 0.8905073645473401, 'reg_alpha': 3.185802948875031e-06, 'reg_lambda': 0.9256849412046013, 'min_child_weight': 1, 'gamma': 0.4591777304037701}. Best is trial 29 with value: 0.8731884057971014.\n",
      "[I 2025-08-22 21:41:08,055] Trial 36 finished with value: 0.8659420289855072 and parameters: {'n_estimators': 864, 'max_depth': 4, 'learning_rate': 0.28904520359411195, 'subsample': 0.8784150519329563, 'colsample_bytree': 0.8892350325673551, 'reg_alpha': 0.6218683602187789, 'reg_lambda': 0.9177755388993327, 'min_child_weight': 1, 'gamma': 0.4851253213911295}. Best is trial 29 with value: 0.8731884057971014.\n",
      "[I 2025-08-22 21:41:09,574] Trial 35 finished with value: 0.8695652173913043 and parameters: {'n_estimators': 874, 'max_depth': 4, 'learning_rate': 0.2818390539551042, 'subsample': 0.8876764548410724, 'colsample_bytree': 0.8882918189887486, 'reg_alpha': 2.9757151778548363e-06, 'reg_lambda': 0.8185809890331016, 'min_child_weight': 1, 'gamma': 0.49983573093447986}. Best is trial 29 with value: 0.8731884057971014.\n",
      "[I 2025-08-22 21:41:14,640] Trial 38 finished with value: 0.8695652173913043 and parameters: {'n_estimators': 849, 'max_depth': 4, 'learning_rate': 0.2948759635035115, 'subsample': 0.8790639294188739, 'colsample_bytree': 0.9060979222141621, 'reg_alpha': 7.599794025231155e-06, 'reg_lambda': 0.7599995062963792, 'min_child_weight': 1, 'gamma': 0.4332250980202882}. Best is trial 29 with value: 0.8731884057971014.\n",
      "[I 2025-08-22 21:41:19,484] Trial 37 finished with value: 0.8695652173913043 and parameters: {'n_estimators': 921, 'max_depth': 4, 'learning_rate': 0.2591934941128418, 'subsample': 0.8826456095983929, 'colsample_bytree': 0.9043549988227416, 'reg_alpha': 2.837970767225902e-06, 'reg_lambda': 0.4905555913133254, 'min_child_weight': 1, 'gamma': 0.4306439830664802}. Best is trial 29 with value: 0.8731884057971014.\n",
      "[I 2025-08-22 21:41:20,105] Trial 43 finished with value: 0.8405797101449275 and parameters: {'n_estimators': 498, 'max_depth': 4, 'learning_rate': 0.18697215593087885, 'subsample': 0.9097417115318331, 'colsample_bytree': 0.8950729910459541, 'reg_alpha': 0.0007394928097967209, 'reg_lambda': 1.1304536401869533e-08, 'min_child_weight': 2, 'gamma': 0.4200117591105039}. Best is trial 29 with value: 0.8731884057971014.\n",
      "[I 2025-08-22 21:41:28,159] Trial 39 finished with value: 0.8731884057971014 and parameters: {'n_estimators': 797, 'max_depth': 4, 'learning_rate': 0.28728438569120907, 'subsample': 0.8673432345314745, 'colsample_bytree': 0.8859937162928173, 'reg_alpha': 1.4427407359844973e-06, 'reg_lambda': 0.8563114368659382, 'min_child_weight': 1, 'gamma': 0.43528193324198355}. Best is trial 29 with value: 0.8731884057971014.\n",
      "[I 2025-08-22 21:41:31,535] Trial 40 finished with value: 0.8731884057971014 and parameters: {'n_estimators': 846, 'max_depth': 4, 'learning_rate': 0.2868394134050878, 'subsample': 0.8787152141073072, 'colsample_bytree': 0.8985184688367576, 'reg_alpha': 1.4579559070848217e-07, 'reg_lambda': 0.9958090732518741, 'min_child_weight': 1, 'gamma': 0.4190117916789211}. Best is trial 29 with value: 0.8731884057971014.\n",
      "[I 2025-08-22 21:41:32,781] Trial 41 finished with value: 0.8442028985507246 and parameters: {'n_estimators': 854, 'max_depth': 4, 'learning_rate': 0.19410889570601467, 'subsample': 0.8867587942787604, 'colsample_bytree': 0.9024025095107251, 'reg_alpha': 0.4711306709364445, 'reg_lambda': 0.7411758280236301, 'min_child_weight': 1, 'gamma': 0.418336774649498}. Best is trial 29 with value: 0.8731884057971014.\n",
      "[I 2025-08-22 21:41:35,456] Trial 42 finished with value: 0.8442028985507246 and parameters: {'n_estimators': 850, 'max_depth': 4, 'learning_rate': 0.18947098277583224, 'subsample': 0.9159520133080241, 'colsample_bytree': 0.899769652397672, 'reg_alpha': 0.0004268717016612811, 'reg_lambda': 1.388908311739086e-08, 'min_child_weight': 2, 'gamma': 0.42492762233451675}. Best is trial 29 with value: 0.8731884057971014.\n",
      "[I 2025-08-22 21:41:44,629] Trial 44 finished with value: 0.8478260869565217 and parameters: {'n_estimators': 868, 'max_depth': 4, 'learning_rate': 0.19934416597169477, 'subsample': 0.86299569519972, 'colsample_bytree': 0.9212862167188625, 'reg_alpha': 0.0005788529669721754, 'reg_lambda': 5.159956528782679e-07, 'min_child_weight': 2, 'gamma': 0.4387047966271209}. Best is trial 29 with value: 0.8731884057971014.\n",
      "[I 2025-08-22 21:41:44,972] Trial 45 finished with value: 0.8478260869565217 and parameters: {'n_estimators': 844, 'max_depth': 4, 'learning_rate': 0.19236278008506413, 'subsample': 0.8620930628805538, 'colsample_bytree': 0.9032473439988167, 'reg_alpha': 0.00050406770471774, 'reg_lambda': 7.169301324743686e-07, 'min_child_weight': 2, 'gamma': 0.4265303979691458}. Best is trial 29 with value: 0.8731884057971014.\n",
      "[I 2025-08-22 21:41:47,647] Trial 48 finished with value: 0.8442028985507246 and parameters: {'n_estimators': 773, 'max_depth': 4, 'learning_rate': 0.18980548328732758, 'subsample': 0.9337804472993048, 'colsample_bytree': 0.9138778039329782, 'reg_alpha': 1.9377335348705065e-07, 'reg_lambda': 1.2144694109947227e-05, 'min_child_weight': 2, 'gamma': 0.397336006608723}. Best is trial 29 with value: 0.8731884057971014.\n",
      "[I 2025-08-22 21:41:47,903] Trial 46 finished with value: 0.8442028985507246 and parameters: {'n_estimators': 884, 'max_depth': 4, 'learning_rate': 0.18882324413136986, 'subsample': 0.9323666905508458, 'colsample_bytree': 0.9039806808747683, 'reg_alpha': 0.0003518449170738, 'reg_lambda': 2.3950662647425012e-05, 'min_child_weight': 2, 'gamma': 0.4323594846190818}. Best is trial 29 with value: 0.8731884057971014.\n",
      "[I 2025-08-22 21:41:48,485] Trial 49 finished with value: 0.8333333333333334 and parameters: {'n_estimators': 764, 'max_depth': 4, 'learning_rate': 0.18029170818945559, 'subsample': 0.9312169444617869, 'colsample_bytree': 0.9217239739807884, 'reg_alpha': 0.0003452988785783707, 'reg_lambda': 1.0277894516978155e-06, 'min_child_weight': 2, 'gamma': 0.411995819635171}. Best is trial 29 with value: 0.8731884057971014.\n",
      "[I 2025-08-22 21:41:49,831] Trial 47 finished with value: 0.8514492753623188 and parameters: {'n_estimators': 994, 'max_depth': 4, 'learning_rate': 0.18911491426218813, 'subsample': 0.9325291974244313, 'colsample_bytree': 0.9078861813957373, 'reg_alpha': 0.0004736596852303869, 'reg_lambda': 2.9154164685090894e-05, 'min_child_weight': 2, 'gamma': 0.4387180622470915}. Best is trial 29 with value: 0.8731884057971014.\n",
      "[I 2025-08-22 21:41:54,126] Trial 25 finished with value: 0.8623188405797102 and parameters: {'n_estimators': 922, 'max_depth': 10, 'learning_rate': 0.24904717234617374, 'subsample': 0.860508159565894, 'colsample_bytree': 0.8642387684417356, 'reg_alpha': 6.090784970306572e-08, 'reg_lambda': 0.641669020939927, 'min_child_weight': 1, 'gamma': 0.3504673910768676}. Best is trial 29 with value: 0.8731884057971014.\n",
      "[I 2025-08-22 21:41:58,366] Trial 14 finished with value: 0.7355072463768116 and parameters: {'n_estimators': 952, 'max_depth': 10, 'learning_rate': 0.1314776723840684, 'subsample': 0.8233164885491169, 'colsample_bytree': 0.6419178955637672, 'reg_alpha': 9.695292470364909e-06, 'reg_lambda': 0.03759962535790326, 'min_child_weight': 1, 'gamma': 0.01706487933456985}. Best is trial 29 with value: 0.8731884057971014.\n"
     ]
    }
   ],
   "source": [
    "def objective(trial):\n",
    "    hiper = {\n",
    "        'n_estimators': trial.suggest_int('n_estimators', 100, 1000),\n",
    "        'max_depth': trial.suggest_int('max_depth', 3, 10),\n",
    "        'learning_rate': trial.suggest_float('learning_rate', 0.01, 0.3, log=True),\n",
    "        'subsample': trial.suggest_float('subsample', 0.6, 1.0),\n",
    "        'colsample_bytree': trial.suggest_float('colsample_bytree', 0.6, 1.0),\n",
    "        'reg_alpha': trial.suggest_float('reg_alpha', 1e-8, 1.0, log=True),\n",
    "        'reg_lambda': trial.suggest_float('reg_lambda', 1e-8, 1.0, log=True),\n",
    "        'min_child_weight': trial.suggest_int('min_child_weight', 1, 10),\n",
    "        'gamma': trial.suggest_float('gamma', 0, 0.5),\n",
    "        'device': 'cuda',  # SI TIENES GPU\n",
    "    }\n",
    "    model = xgb.XGBRFClassifier(**hiper)\n",
    "    model.fit(X_train, y_train)\n",
    "    y_pred = model.predict(X_test)\n",
    "    acc = accuracy_score(y_test, y_pred)\n",
    "    return acc\n",
    "study  = optuna.create_study(direction=\"maximize\")\n",
    "study.optimize(objective, n_jobs=-1, n_trials=50)"
   ]
  },
  {
   "cell_type": "code",
   "execution_count": 6,
   "id": "9f2ff6b5",
   "metadata": {},
   "outputs": [
    {
     "name": "stdout",
     "output_type": "stream",
     "text": [
      "{'n_estimators': 728, 'max_depth': 4, 'learning_rate': 0.288058717735281, 'subsample': 0.8933646878557893, 'colsample_bytree': 0.8632449905269044, 'reg_alpha': 1.7857889671944856e-06, 'reg_lambda': 7.565528848893675e-06, 'min_child_weight': 1, 'gamma': 0.4924820159874104}\n",
      "0.8768115942028986\n"
     ]
    }
   ],
   "source": [
    "model = xgb.XGBRFClassifier(**study.best_params)\n",
    "print(study.best_params)\n",
    "model.fit(X_train, y_train)\n",
    "y_pred = model.predict(X_test)\n",
    "acc  = accuracy_score(y_test, y_pred)\n",
    "print(acc)"
   ]
  }
 ],
 "metadata": {
  "kernelspec": {
   "display_name": "venv",
   "language": "python",
   "name": "python3"
  },
  "language_info": {
   "codemirror_mode": {
    "name": "ipython",
    "version": 3
   },
   "file_extension": ".py",
   "mimetype": "text/x-python",
   "name": "python",
   "nbconvert_exporter": "python",
   "pygments_lexer": "ipython3",
   "version": "3.10.0"
  }
 },
 "nbformat": 4,
 "nbformat_minor": 5
}
